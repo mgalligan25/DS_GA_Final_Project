{
 "cells": [
  {
   "cell_type": "markdown",
   "metadata": {},
   "source": [
    "## Goal \n",
    "Predict the likelihood of a foreign scientist migrating to the US better than baseline."
   ]
  },
  {
   "cell_type": "markdown",
   "metadata": {},
   "source": [
    "### Importing Modules "
   ]
  },
  {
   "cell_type": "code",
   "execution_count": 1,
   "metadata": {},
   "outputs": [
    {
     "name": "stdout",
     "output_type": "stream",
     "text": [
      "scipy: 0.19.1\n",
      "numpy: 1.13.3\n",
      "matplotlib: 2.0.2\n",
      "pandas: 0.20.1\n",
      "sklearn: 0.19.0\n"
     ]
    },
    {
     "name": "stderr",
     "output_type": "stream",
     "text": [
      "/Users/macg/anaconda/lib/python3.6/site-packages/sklearn/cross_validation.py:41: DeprecationWarning: This module was deprecated in version 0.18 in favor of the model_selection module into which all the refactored classes and functions are moved. Also note that the interface of the new CV iterators are different from that of this module. This module will be removed in 0.20.\n",
      "  \"This module will be removed in 0.20.\", DeprecationWarning)\n"
     ]
    }
   ],
   "source": [
    "# binary classification\n",
    "import scipy\n",
    "print('scipy: {}'.format(scipy.__version__)) # numpy\n",
    "import numpy as np\n",
    "print('numpy: {}'.format(np.__version__))\n",
    "# matplotlib\n",
    "import matplotlib \n",
    "import matplotlib.pyplot as plt\n",
    "print('matplotlib: {}'.format(matplotlib.__version__)) # pandas\n",
    "import pandas as pd\n",
    "print('pandas: {}'.format(pd.__version__))\n",
    "# scikit-learn\n",
    "import sklearn\n",
    "print('sklearn: {}'.format(sklearn.__version__))\n",
    "\n",
    "import datetime\n",
    "import xgboost as xgb\n",
    "from sklearn.metrics import accuracy_score\n",
    "from sklearn.preprocessing import LabelEncoder\n",
    "from sklearn.preprocessing import OneHotEncoder\n",
    "from sklearn.preprocessing import Imputer\n",
    "from sklearn.cross_validation import train_test_split\n",
    "from sklearn.feature_selection import RFE\n",
    "from sklearn.feature_selection import SelectKBest\n",
    "from sklearn.feature_selection import chi2\n",
    "from sklearn.decomposition import PCA\n",
    "from sklearn.linear_model import Ridge, RidgeCV, ElasticNet, LassoCV, LassoLarsCV\n",
    "from sklearn.linear_model import LogisticRegression\n",
    "from sklearn.discriminant_analysis import LinearDiscriminantAnalysis\n",
    "from sklearn.naive_bayes import GaussianNB\n",
    "from sklearn.ensemble import VotingClassifier\n",
    "import ml_metrics as metrics\n",
    "from sklearn.metrics import classification_report\n",
    "import seaborn as sns\n",
    "import warnings\n",
    "warnings.filterwarnings('ignore')\n",
    "%matplotlib inline"
   ]
  },
  {
   "cell_type": "markdown",
   "metadata": {},
   "source": [
    "### Reading Data Files"
   ]
  },
  {
   "cell_type": "code",
   "execution_count": 2,
   "metadata": {},
   "outputs": [
    {
     "data": {
      "text/html": [
       "<div>\n",
       "<style>\n",
       "    .dataframe thead tr:only-child th {\n",
       "        text-align: right;\n",
       "    }\n",
       "\n",
       "    .dataframe thead th {\n",
       "        text-align: left;\n",
       "    }\n",
       "\n",
       "    .dataframe tbody tr th {\n",
       "        vertical-align: top;\n",
       "    }\n",
       "</style>\n",
       "<table border=\"1\" class=\"dataframe\">\n",
       "  <thead>\n",
       "    <tr style=\"text-align: right;\">\n",
       "      <th></th>\n",
       "      <th>phd_year</th>\n",
       "      <th>country_2016</th>\n",
       "      <th>earliest_year</th>\n",
       "      <th>earliest_country</th>\n",
       "      <th>has_phd</th>\n",
       "      <th>phd_country</th>\n",
       "      <th>has_migrated</th>\n",
       "    </tr>\n",
       "    <tr>\n",
       "      <th>orcid_id</th>\n",
       "      <th></th>\n",
       "      <th></th>\n",
       "      <th></th>\n",
       "      <th></th>\n",
       "      <th></th>\n",
       "      <th></th>\n",
       "      <th></th>\n",
       "    </tr>\n",
       "  </thead>\n",
       "  <tbody>\n",
       "    <tr>\n",
       "      <th>0000-0001-5000-0138</th>\n",
       "      <td>NaN</td>\n",
       "      <td>CO</td>\n",
       "      <td>2014.0</td>\n",
       "      <td>CO</td>\n",
       "      <td>False</td>\n",
       "      <td>NaN</td>\n",
       "      <td>False</td>\n",
       "    </tr>\n",
       "    <tr>\n",
       "      <th>0000-0001-5000-0736</th>\n",
       "      <td>2006.0</td>\n",
       "      <td>NaN</td>\n",
       "      <td>NaN</td>\n",
       "      <td>NaN</td>\n",
       "      <td>True</td>\n",
       "      <td>PT</td>\n",
       "      <td>False</td>\n",
       "    </tr>\n",
       "    <tr>\n",
       "      <th>0000-0001-5000-1018</th>\n",
       "      <td>2015.0</td>\n",
       "      <td>US</td>\n",
       "      <td>2005.0</td>\n",
       "      <td>US</td>\n",
       "      <td>True</td>\n",
       "      <td>US</td>\n",
       "      <td>False</td>\n",
       "    </tr>\n",
       "    <tr>\n",
       "      <th>0000-0001-5000-1181</th>\n",
       "      <td>NaN</td>\n",
       "      <td>RU</td>\n",
       "      <td>1978.0</td>\n",
       "      <td>RU</td>\n",
       "      <td>False</td>\n",
       "      <td>NaN</td>\n",
       "      <td>False</td>\n",
       "    </tr>\n",
       "    <tr>\n",
       "      <th>0000-0001-5000-1923</th>\n",
       "      <td>2016.0</td>\n",
       "      <td>GB</td>\n",
       "      <td>2004.0</td>\n",
       "      <td>GB</td>\n",
       "      <td>True</td>\n",
       "      <td>GB</td>\n",
       "      <td>False</td>\n",
       "    </tr>\n",
       "  </tbody>\n",
       "</table>\n",
       "</div>"
      ],
      "text/plain": [
       "                     phd_year country_2016  earliest_year earliest_country  \\\n",
       "orcid_id                                                                     \n",
       "0000-0001-5000-0138       NaN           CO         2014.0               CO   \n",
       "0000-0001-5000-0736    2006.0          NaN            NaN              NaN   \n",
       "0000-0001-5000-1018    2015.0           US         2005.0               US   \n",
       "0000-0001-5000-1181       NaN           RU         1978.0               RU   \n",
       "0000-0001-5000-1923    2016.0           GB         2004.0               GB   \n",
       "\n",
       "                     has_phd phd_country  has_migrated  \n",
       "orcid_id                                                \n",
       "0000-0001-5000-0138    False         NaN         False  \n",
       "0000-0001-5000-0736     True          PT         False  \n",
       "0000-0001-5000-1018     True          US         False  \n",
       "0000-0001-5000-1181    False         NaN         False  \n",
       "0000-0001-5000-1923     True          GB         False  "
      ]
     },
     "execution_count": 2,
     "metadata": {},
     "output_type": "execute_result"
    }
   ],
   "source": [
    "data = pd.read_csv(\"/Users/macg/Desktop/ORCID_migrations.csv\",index_col='orcid_id')\n",
    "data.head()"
   ]
  },
  {
   "cell_type": "code",
   "execution_count": 3,
   "metadata": {},
   "outputs": [
    {
     "data": {
      "text/html": [
       "<div>\n",
       "<style>\n",
       "    .dataframe thead tr:only-child th {\n",
       "        text-align: right;\n",
       "    }\n",
       "\n",
       "    .dataframe thead th {\n",
       "        text-align: left;\n",
       "    }\n",
       "\n",
       "    .dataframe tbody tr th {\n",
       "        vertical-align: top;\n",
       "    }\n",
       "</style>\n",
       "<table border=\"1\" class=\"dataframe\">\n",
       "  <thead>\n",
       "    <tr style=\"text-align: right;\">\n",
       "      <th></th>\n",
       "      <th>orcid_id</th>\n",
       "      <th>country</th>\n",
       "      <th>organization_name</th>\n",
       "      <th>Ringgold_id</th>\n",
       "      <th>start_year</th>\n",
       "      <th>end_year</th>\n",
       "      <th>affiliation_type</th>\n",
       "      <th>affiliation_role</th>\n",
       "      <th>is_phd</th>\n",
       "    </tr>\n",
       "  </thead>\n",
       "  <tbody>\n",
       "    <tr>\n",
       "      <th>0</th>\n",
       "      <td>0000-0001-5000-0138</td>\n",
       "      <td>CO</td>\n",
       "      <td>Universidad Del Rosario</td>\n",
       "      <td>25807</td>\n",
       "      <td>2014.0</td>\n",
       "      <td>2016.0</td>\n",
       "      <td>EMPLOYMENT</td>\n",
       "      <td>Profesor Principal</td>\n",
       "      <td>False</td>\n",
       "    </tr>\n",
       "    <tr>\n",
       "      <th>1</th>\n",
       "      <td>0000-0001-5000-0736</td>\n",
       "      <td>PT</td>\n",
       "      <td>Faculty of Science and Technology, New Univers...</td>\n",
       "      <td>NaN</td>\n",
       "      <td>NaN</td>\n",
       "      <td>NaN</td>\n",
       "      <td>EMPLOYMENT</td>\n",
       "      <td>PhD in Geology - Invited Assistant Professor</td>\n",
       "      <td>True</td>\n",
       "    </tr>\n",
       "    <tr>\n",
       "      <th>2</th>\n",
       "      <td>0000-0001-5000-0736</td>\n",
       "      <td>PT</td>\n",
       "      <td>Universidade de Ìävora Ìrea Departamental de ...</td>\n",
       "      <td>98820</td>\n",
       "      <td>NaN</td>\n",
       "      <td>2006.0</td>\n",
       "      <td>EDUCATION</td>\n",
       "      <td>PhD in Geology</td>\n",
       "      <td>True</td>\n",
       "    </tr>\n",
       "    <tr>\n",
       "      <th>3</th>\n",
       "      <td>0000-0001-5000-0736</td>\n",
       "      <td>PT</td>\n",
       "      <td>Universidade de Lisboa</td>\n",
       "      <td>37809</td>\n",
       "      <td>NaN</td>\n",
       "      <td>1997.0</td>\n",
       "      <td>EDUCATION</td>\n",
       "      <td>MSc in Internal Geodynamics</td>\n",
       "      <td>False</td>\n",
       "    </tr>\n",
       "    <tr>\n",
       "      <th>4</th>\n",
       "      <td>0000-0001-5000-0736</td>\n",
       "      <td>PT</td>\n",
       "      <td>Universidade de Lisboa</td>\n",
       "      <td>37809</td>\n",
       "      <td>NaN</td>\n",
       "      <td>1992.0</td>\n",
       "      <td>EDUCATION</td>\n",
       "      <td>Graduation in Geology</td>\n",
       "      <td>False</td>\n",
       "    </tr>\n",
       "  </tbody>\n",
       "</table>\n",
       "</div>"
      ],
      "text/plain": [
       "              orcid_id country  \\\n",
       "0  0000-0001-5000-0138      CO   \n",
       "1  0000-0001-5000-0736      PT   \n",
       "2  0000-0001-5000-0736      PT   \n",
       "3  0000-0001-5000-0736      PT   \n",
       "4  0000-0001-5000-0736      PT   \n",
       "\n",
       "                                   organization_name Ringgold_id  start_year  \\\n",
       "0                            Universidad Del Rosario       25807      2014.0   \n",
       "1  Faculty of Science and Technology, New Univers...         NaN         NaN   \n",
       "2  Universidade de Ìävora Ìrea Departamental de ...       98820         NaN   \n",
       "3                             Universidade de Lisboa       37809         NaN   \n",
       "4                             Universidade de Lisboa       37809         NaN   \n",
       "\n",
       "   end_year affiliation_type                               affiliation_role  \\\n",
       "0    2016.0       EMPLOYMENT                             Profesor Principal   \n",
       "1       NaN       EMPLOYMENT  PhD in Geology - Invited Assistant Professor    \n",
       "2    2006.0        EDUCATION                                PhD in Geology    \n",
       "3    1997.0        EDUCATION                   MSc in Internal Geodynamics    \n",
       "4    1992.0        EDUCATION                          Graduation in Geology   \n",
       "\n",
       "   is_phd  \n",
       "0   False  \n",
       "1    True  \n",
       "2    True  \n",
       "3   False  \n",
       "4   False  "
      ]
     },
     "execution_count": 3,
     "metadata": {},
     "output_type": "execute_result"
    }
   ],
   "source": [
    "data_detail = pd.read_csv(\"/Users/macg/Desktop/ORCID_migration_detail.csv\", encoding = 'iso-8859-1',index_col='Unnamed: 0')\n",
    "data_detail.head()"
   ]
  },
  {
   "cell_type": "code",
   "execution_count": 4,
   "metadata": {},
   "outputs": [
    {
     "data": {
      "text/plain": [
       "(1048575, 9)"
      ]
     },
     "execution_count": 4,
     "metadata": {},
     "output_type": "execute_result"
    }
   ],
   "source": [
    "data_detail.shape"
   ]
  },
  {
   "cell_type": "code",
   "execution_count": 5,
   "metadata": {},
   "outputs": [
    {
     "data": {
      "text/plain": [
       "orcid_id                  0\n",
       "country                  80\n",
       "organization_name        11\n",
       "Ringgold_id          283749\n",
       "start_year           169003\n",
       "end_year             125701\n",
       "affiliation_type          1\n",
       "affiliation_role     107064\n",
       "is_phd                    0\n",
       "dtype: int64"
      ]
     },
     "execution_count": 5,
     "metadata": {},
     "output_type": "execute_result"
    }
   ],
   "source": [
    "len(data_detail) - data_detail.count()"
   ]
  },
  {
   "cell_type": "code",
   "execution_count": 6,
   "metadata": {
    "collapsed": true
   },
   "outputs": [],
   "source": [
    "# drop columns where we can't tell if this is the earliest affiliation information\n",
    "data_detail.dropna(subset = ['start_year'], inplace = True)"
   ]
  },
  {
   "cell_type": "code",
   "execution_count": 7,
   "metadata": {
    "collapsed": true
   },
   "outputs": [],
   "source": [
    "earliest_year = data_detail[['orcid_id','start_year']]"
   ]
  },
  {
   "cell_type": "code",
   "execution_count": 8,
   "metadata": {
    "collapsed": true
   },
   "outputs": [],
   "source": [
    "earliest_year = pd.DataFrame(earliest_year.groupby('orcid_id').min(), columns=['start_year'])"
   ]
  },
  {
   "cell_type": "code",
   "execution_count": 9,
   "metadata": {
    "collapsed": true
   },
   "outputs": [],
   "source": [
    "earliest_year.reset_index(inplace = True)"
   ]
  },
  {
   "cell_type": "code",
   "execution_count": 10,
   "metadata": {
    "collapsed": true,
    "scrolled": true
   },
   "outputs": [],
   "source": [
    "early_detail = data_detail.merge(earliest_year, how='inner',right_on=['orcid_id','start_year'], left_on=['orcid_id','start_year'])"
   ]
  },
  {
   "cell_type": "code",
   "execution_count": 11,
   "metadata": {
    "collapsed": true
   },
   "outputs": [],
   "source": [
    "early_detail.set_index('orcid_id',inplace = True)"
   ]
  },
  {
   "cell_type": "code",
   "execution_count": 12,
   "metadata": {},
   "outputs": [
    {
     "data": {
      "text/html": [
       "<div>\n",
       "<style>\n",
       "    .dataframe thead tr:only-child th {\n",
       "        text-align: right;\n",
       "    }\n",
       "\n",
       "    .dataframe thead th {\n",
       "        text-align: left;\n",
       "    }\n",
       "\n",
       "    .dataframe tbody tr th {\n",
       "        vertical-align: top;\n",
       "    }\n",
       "</style>\n",
       "<table border=\"1\" class=\"dataframe\">\n",
       "  <thead>\n",
       "    <tr style=\"text-align: right;\">\n",
       "      <th></th>\n",
       "      <th>phd_year</th>\n",
       "      <th>country_2016</th>\n",
       "      <th>earliest_year</th>\n",
       "      <th>earliest_country</th>\n",
       "      <th>has_phd</th>\n",
       "      <th>phd_country</th>\n",
       "      <th>has_migrated</th>\n",
       "      <th>country</th>\n",
       "      <th>organization_name</th>\n",
       "      <th>Ringgold_id</th>\n",
       "      <th>start_year</th>\n",
       "      <th>end_year</th>\n",
       "      <th>affiliation_type</th>\n",
       "      <th>affiliation_role</th>\n",
       "      <th>is_phd</th>\n",
       "    </tr>\n",
       "    <tr>\n",
       "      <th>orcid_id</th>\n",
       "      <th></th>\n",
       "      <th></th>\n",
       "      <th></th>\n",
       "      <th></th>\n",
       "      <th></th>\n",
       "      <th></th>\n",
       "      <th></th>\n",
       "      <th></th>\n",
       "      <th></th>\n",
       "      <th></th>\n",
       "      <th></th>\n",
       "      <th></th>\n",
       "      <th></th>\n",
       "      <th></th>\n",
       "      <th></th>\n",
       "    </tr>\n",
       "  </thead>\n",
       "  <tbody>\n",
       "    <tr>\n",
       "      <th>0000-0001-5000-0138</th>\n",
       "      <td>NaN</td>\n",
       "      <td>CO</td>\n",
       "      <td>2014.0</td>\n",
       "      <td>CO</td>\n",
       "      <td>False</td>\n",
       "      <td>NaN</td>\n",
       "      <td>False</td>\n",
       "      <td>CO</td>\n",
       "      <td>Universidad Del Rosario</td>\n",
       "      <td>25807</td>\n",
       "      <td>2014.0</td>\n",
       "      <td>2016.0</td>\n",
       "      <td>EMPLOYMENT</td>\n",
       "      <td>Profesor Principal</td>\n",
       "      <td>False</td>\n",
       "    </tr>\n",
       "    <tr>\n",
       "      <th>0000-0001-5000-1018</th>\n",
       "      <td>2015.0</td>\n",
       "      <td>US</td>\n",
       "      <td>2005.0</td>\n",
       "      <td>US</td>\n",
       "      <td>True</td>\n",
       "      <td>US</td>\n",
       "      <td>False</td>\n",
       "      <td>US</td>\n",
       "      <td>University of Wisconsin Milwaukee</td>\n",
       "      <td>14751</td>\n",
       "      <td>2005.0</td>\n",
       "      <td>2010.0</td>\n",
       "      <td>EDUCATION</td>\n",
       "      <td>B.S. Electrical and Computer Engineering</td>\n",
       "      <td>False</td>\n",
       "    </tr>\n",
       "    <tr>\n",
       "      <th>0000-0001-5000-1181</th>\n",
       "      <td>NaN</td>\n",
       "      <td>RU</td>\n",
       "      <td>1978.0</td>\n",
       "      <td>RU</td>\n",
       "      <td>False</td>\n",
       "      <td>NaN</td>\n",
       "      <td>False</td>\n",
       "      <td>RU</td>\n",
       "      <td>_÷__â_üâÄâ ã_ü_á_üà_µ_¼____ _¼Ä_ÈÎ...</td>\n",
       "      <td>NaN</td>\n",
       "      <td>1978.0</td>\n",
       "      <td>1982.0</td>\n",
       "      <td>EDUCATION</td>\n",
       "      <td>âÄ_«_µ__â</td>\n",
       "      <td>False</td>\n",
       "    </tr>\n",
       "    <tr>\n",
       "      <th>0000-0001-5000-1923</th>\n",
       "      <td>2016.0</td>\n",
       "      <td>GB</td>\n",
       "      <td>2004.0</td>\n",
       "      <td>GB</td>\n",
       "      <td>True</td>\n",
       "      <td>GB</td>\n",
       "      <td>False</td>\n",
       "      <td>GB</td>\n",
       "      <td>Durham University - Queens Campus</td>\n",
       "      <td>145277</td>\n",
       "      <td>2004.0</td>\n",
       "      <td>2007.0</td>\n",
       "      <td>EDUCATION</td>\n",
       "      <td>BSc (Hons) Applied Psychology</td>\n",
       "      <td>False</td>\n",
       "    </tr>\n",
       "    <tr>\n",
       "      <th>0000-0001-5000-223X</th>\n",
       "      <td>1998.0</td>\n",
       "      <td>GB</td>\n",
       "      <td>1989.0</td>\n",
       "      <td>GB</td>\n",
       "      <td>True</td>\n",
       "      <td>GB</td>\n",
       "      <td>True</td>\n",
       "      <td>GB</td>\n",
       "      <td>University of Manchester</td>\n",
       "      <td>5292</td>\n",
       "      <td>1989.0</td>\n",
       "      <td>1993.0</td>\n",
       "      <td>EDUCATION</td>\n",
       "      <td>BSc (Hons.) Applied Plant Sciences</td>\n",
       "      <td>False</td>\n",
       "    </tr>\n",
       "  </tbody>\n",
       "</table>\n",
       "</div>"
      ],
      "text/plain": [
       "                     phd_year country_2016  earliest_year earliest_country  \\\n",
       "orcid_id                                                                     \n",
       "0000-0001-5000-0138       NaN           CO         2014.0               CO   \n",
       "0000-0001-5000-1018    2015.0           US         2005.0               US   \n",
       "0000-0001-5000-1181       NaN           RU         1978.0               RU   \n",
       "0000-0001-5000-1923    2016.0           GB         2004.0               GB   \n",
       "0000-0001-5000-223X    1998.0           GB         1989.0               GB   \n",
       "\n",
       "                     has_phd phd_country  has_migrated country  \\\n",
       "orcid_id                                                         \n",
       "0000-0001-5000-0138    False         NaN         False      CO   \n",
       "0000-0001-5000-1018     True          US         False      US   \n",
       "0000-0001-5000-1181    False         NaN         False      RU   \n",
       "0000-0001-5000-1923     True          GB         False      GB   \n",
       "0000-0001-5000-223X     True          GB          True      GB   \n",
       "\n",
       "                                                     organization_name  \\\n",
       "orcid_id                                                                 \n",
       "0000-0001-5000-0138                            Universidad Del Rosario   \n",
       "0000-0001-5000-1018                  University of Wisconsin Milwaukee   \n",
       "0000-0001-5000-1181  _÷__â_üâÄâ ã_ü_á_üà_µ_¼____ _¼Ä_ÈÎ...   \n",
       "0000-0001-5000-1923                  Durham University - Queens Campus   \n",
       "0000-0001-5000-223X                           University of Manchester   \n",
       "\n",
       "                    Ringgold_id  start_year  end_year affiliation_type  \\\n",
       "orcid_id                                                                 \n",
       "0000-0001-5000-0138       25807      2014.0    2016.0       EMPLOYMENT   \n",
       "0000-0001-5000-1018       14751      2005.0    2010.0        EDUCATION   \n",
       "0000-0001-5000-1181         NaN      1978.0    1982.0        EDUCATION   \n",
       "0000-0001-5000-1923      145277      2004.0    2007.0        EDUCATION   \n",
       "0000-0001-5000-223X        5292      1989.0    1993.0        EDUCATION   \n",
       "\n",
       "                                             affiliation_role  is_phd  \n",
       "orcid_id                                                               \n",
       "0000-0001-5000-0138                        Profesor Principal   False  \n",
       "0000-0001-5000-1018  B.S. Electrical and Computer Engineering   False  \n",
       "0000-0001-5000-1181                            âÄ_«_µ__â   False  \n",
       "0000-0001-5000-1923             BSc (Hons) Applied Psychology   False  \n",
       "0000-0001-5000-223X        BSc (Hons.) Applied Plant Sciences   False  "
      ]
     },
     "execution_count": 12,
     "metadata": {},
     "output_type": "execute_result"
    }
   ],
   "source": [
    "scientists = data.merge(early_detail, how='inner', left_index=True, right_index=True)\n",
    "scientists.head()"
   ]
  },
  {
   "cell_type": "code",
   "execution_count": 13,
   "metadata": {},
   "outputs": [
    {
     "data": {
      "text/plain": [
       "(330581, 15)"
      ]
     },
     "execution_count": 13,
     "metadata": {},
     "output_type": "execute_result"
    }
   ],
   "source": [
    "scientists.shape"
   ]
  },
  {
   "cell_type": "markdown",
   "metadata": {},
   "source": [
    "### Reordering Columns for Readability"
   ]
  },
  {
   "cell_type": "code",
   "execution_count": 14,
   "metadata": {},
   "outputs": [
    {
     "data": {
      "text/plain": [
       "Index(['phd_year', 'country_2016', 'earliest_year', 'earliest_country',\n",
       "       'has_phd', 'phd_country', 'has_migrated', 'country',\n",
       "       'organization_name', 'Ringgold_id', 'start_year', 'end_year',\n",
       "       'affiliation_type', 'affiliation_role', 'is_phd'],\n",
       "      dtype='object')"
      ]
     },
     "execution_count": 14,
     "metadata": {},
     "output_type": "execute_result"
    }
   ],
   "source": [
    "scientists.columns"
   ]
  },
  {
   "cell_type": "code",
   "execution_count": 15,
   "metadata": {
    "collapsed": true
   },
   "outputs": [],
   "source": [
    "scientists = scientists[['earliest_year', 'earliest_country','country','start_year', 'end_year',\n",
    "       'organization_name', 'Ringgold_id', 'affiliation_type', 'affiliation_role',\n",
    "       'has_phd', 'is_phd','phd_country', 'phd_year','has_migrated', 'country_2016']]"
   ]
  },
  {
   "cell_type": "markdown",
   "metadata": {},
   "source": [
    "### Does Ringgold_id give away US_Migrant status?"
   ]
  },
  {
   "cell_type": "code",
   "execution_count": 16,
   "metadata": {
    "collapsed": true
   },
   "outputs": [],
   "source": [
    "org_locations = scientists[['Ringgold_id','country']]"
   ]
  },
  {
   "cell_type": "code",
   "execution_count": 17,
   "metadata": {
    "collapsed": true
   },
   "outputs": [],
   "source": [
    "org_locations.dropna(subset = ['country'], inplace = True)"
   ]
  },
  {
   "cell_type": "code",
   "execution_count": 18,
   "metadata": {},
   "outputs": [
    {
     "data": {
      "text/plain": [
       "(330565, 2)"
      ]
     },
     "execution_count": 18,
     "metadata": {},
     "output_type": "execute_result"
    }
   ],
   "source": [
    "org_locations.shape"
   ]
  },
  {
   "cell_type": "code",
   "execution_count": 19,
   "metadata": {
    "collapsed": true
   },
   "outputs": [],
   "source": [
    "org_locations.dropna(subset = ['Ringgold_id'], inplace = True)"
   ]
  },
  {
   "cell_type": "code",
   "execution_count": 20,
   "metadata": {},
   "outputs": [
    {
     "data": {
      "text/plain": [
       "(241653, 2)"
      ]
     },
     "execution_count": 20,
     "metadata": {},
     "output_type": "execute_result"
    }
   ],
   "source": [
    "org_locations.shape"
   ]
  },
  {
   "cell_type": "code",
   "execution_count": 21,
   "metadata": {
    "collapsed": true
   },
   "outputs": [],
   "source": [
    "org_locations.drop_duplicates(inplace = True)"
   ]
  },
  {
   "cell_type": "markdown",
   "metadata": {},
   "source": [
    "### Plot the Organizations Associated with the Most Distinct Countries"
   ]
  },
  {
   "cell_type": "code",
   "execution_count": 22,
   "metadata": {},
   "outputs": [
    {
     "data": {
      "text/plain": [
       "4919      13\n",
       "6396      13\n",
       "1877       7\n",
       "239757     7\n",
       "339766     5\n",
       "2167       5\n",
       "14724      5\n",
       "1259       5\n",
       "2152       4\n",
       "7088       4\n",
       "424320     4\n",
       "66906      4\n",
       "3489       4\n",
       "16724      4\n",
       "61963      4\n",
       "8082       4\n",
       "3163       4\n",
       "14736      3\n",
       "2129       3\n",
       "158768     3\n",
       "Name: Ringgold_id, dtype: int64"
      ]
     },
     "execution_count": 22,
     "metadata": {},
     "output_type": "execute_result"
    }
   ],
   "source": [
    "org_locations['Ringgold_id'].value_counts().head(20)"
   ]
  },
  {
   "cell_type": "code",
   "execution_count": 23,
   "metadata": {
    "collapsed": true
   },
   "outputs": [],
   "source": [
    "org_values = pd.DataFrame(org_locations['Ringgold_id'].value_counts().head(20), columns=['Ringgold_id'])"
   ]
  },
  {
   "cell_type": "code",
   "execution_count": 24,
   "metadata": {},
   "outputs": [
    {
     "data": {
      "text/plain": [
       "<matplotlib.text.Text at 0x110711d30>"
      ]
     },
     "execution_count": 24,
     "metadata": {},
     "output_type": "execute_result"
    },
    {
     "data": {
      "image/png": "[encoded data removed]",
      "text/plain": [
       "<matplotlib.figure.Figure at 0x126b50c88>"
      ]
     },
     "metadata": {},
     "output_type": "display_data"
    }
   ],
   "source": [
    "ax = org_values.plot(kind = 'bar',title='Most Widespread Organizations',figsize=(10,10))\n",
    "\n",
    "ax.set_xlabel(\"Ringgold_id\", fontsize =10)\n",
    "\n",
    "ax.set_ylabel(\"Country Count\", fontsize =10)"
   ]
  },
  {
   "cell_type": "code",
   "execution_count": 25,
   "metadata": {},
   "outputs": [
    {
     "data": {
      "text/html": [
       "<div>\n",
       "<style>\n",
       "    .dataframe thead tr:only-child th {\n",
       "        text-align: right;\n",
       "    }\n",
       "\n",
       "    .dataframe thead th {\n",
       "        text-align: left;\n",
       "    }\n",
       "\n",
       "    .dataframe tbody tr th {\n",
       "        vertical-align: top;\n",
       "    }\n",
       "</style>\n",
       "<table border=\"1\" class=\"dataframe\">\n",
       "  <thead>\n",
       "    <tr style=\"text-align: right;\">\n",
       "      <th></th>\n",
       "      <th>Ringgold_id</th>\n",
       "      <th>country</th>\n",
       "    </tr>\n",
       "    <tr>\n",
       "      <th>orcid_id</th>\n",
       "      <th></th>\n",
       "      <th></th>\n",
       "    </tr>\n",
       "  </thead>\n",
       "  <tbody>\n",
       "    <tr>\n",
       "      <th>0000-0001-5033-5069</th>\n",
       "      <td>6396</td>\n",
       "      <td>GB</td>\n",
       "    </tr>\n",
       "    <tr>\n",
       "      <th>0000-0001-5273-3335</th>\n",
       "      <td>6396</td>\n",
       "      <td>EG</td>\n",
       "    </tr>\n",
       "    <tr>\n",
       "      <th>0000-0001-6761-7273</th>\n",
       "      <td>6396</td>\n",
       "      <td>RU</td>\n",
       "    </tr>\n",
       "    <tr>\n",
       "      <th>0000-0001-7355-1055</th>\n",
       "      <td>6396</td>\n",
       "      <td>PK</td>\n",
       "    </tr>\n",
       "    <tr>\n",
       "      <th>0000-0001-7721-6799</th>\n",
       "      <td>6396</td>\n",
       "      <td>IT</td>\n",
       "    </tr>\n",
       "    <tr>\n",
       "      <th>0000-0001-8169-1154</th>\n",
       "      <td>6396</td>\n",
       "      <td>IR</td>\n",
       "    </tr>\n",
       "    <tr>\n",
       "      <th>0000-0001-8214-0127</th>\n",
       "      <td>6396</td>\n",
       "      <td>CN</td>\n",
       "    </tr>\n",
       "    <tr>\n",
       "      <th>0000-0001-8269-9633</th>\n",
       "      <td>6396</td>\n",
       "      <td>BR</td>\n",
       "    </tr>\n",
       "    <tr>\n",
       "      <th>0000-0001-8995-983X</th>\n",
       "      <td>6396</td>\n",
       "      <td>TH</td>\n",
       "    </tr>\n",
       "    <tr>\n",
       "      <th>0000-0002-0778-6566</th>\n",
       "      <td>6396</td>\n",
       "      <td>FR</td>\n",
       "    </tr>\n",
       "    <tr>\n",
       "      <th>0000-0002-2515-0991</th>\n",
       "      <td>6396</td>\n",
       "      <td>SI</td>\n",
       "    </tr>\n",
       "    <tr>\n",
       "      <th>0000-0002-2683-2898</th>\n",
       "      <td>6396</td>\n",
       "      <td>SD</td>\n",
       "    </tr>\n",
       "    <tr>\n",
       "      <th>0000-0002-5442-8307</th>\n",
       "      <td>6396</td>\n",
       "      <td>IQ</td>\n",
       "    </tr>\n",
       "  </tbody>\n",
       "</table>\n",
       "</div>"
      ],
      "text/plain": [
       "                    Ringgold_id country\n",
       "orcid_id                               \n",
       "0000-0001-5033-5069        6396      GB\n",
       "0000-0001-5273-3335        6396      EG\n",
       "0000-0001-6761-7273        6396      RU\n",
       "0000-0001-7355-1055        6396      PK\n",
       "0000-0001-7721-6799        6396      IT\n",
       "0000-0001-8169-1154        6396      IR\n",
       "0000-0001-8214-0127        6396      CN\n",
       "0000-0001-8269-9633        6396      BR\n",
       "0000-0001-8995-983X        6396      TH\n",
       "0000-0002-0778-6566        6396      FR\n",
       "0000-0002-2515-0991        6396      SI\n",
       "0000-0002-2683-2898        6396      SD\n",
       "0000-0002-5442-8307        6396      IQ"
      ]
     },
     "execution_count": 25,
     "metadata": {},
     "output_type": "execute_result"
    }
   ],
   "source": [
    "### University of Oxford (Ringgold_id 6396) is the most international organization in the dataset\n",
    "org_locations[org_locations['Ringgold_id']=='6396']\n",
    "### Ringgold_id does not necessarily give away US_migrant status, but it could potentially ruin model"
   ]
  },
  {
   "cell_type": "code",
   "execution_count": 26,
   "metadata": {},
   "outputs": [
    {
     "data": {
      "text/plain": [
       "earliest_year             0\n",
       "earliest_country         16\n",
       "country                  16\n",
       "start_year                0\n",
       "end_year                  0\n",
       "organization_name         2\n",
       "Ringgold_id           88916\n",
       "affiliation_type          0\n",
       "affiliation_role      26370\n",
       "has_phd                   0\n",
       "is_phd                    0\n",
       "phd_country          173203\n",
       "phd_year             177044\n",
       "has_migrated              0\n",
       "country_2016          55928\n",
       "dtype: int64"
      ]
     },
     "execution_count": 26,
     "metadata": {},
     "output_type": "execute_result"
    }
   ],
   "source": [
    "len(scientists) - scientists.count()"
   ]
  },
  {
   "cell_type": "code",
   "execution_count": 27,
   "metadata": {
    "collapsed": true
   },
   "outputs": [],
   "source": [
    "scientists['country_2016'].fillna(scientists['country'], inplace=True)"
   ]
  },
  {
   "cell_type": "code",
   "execution_count": 28,
   "metadata": {},
   "outputs": [
    {
     "data": {
      "text/plain": [
       "''"
      ]
     },
     "execution_count": 28,
     "metadata": {},
     "output_type": "execute_result"
    },
    {
     "data": {
      "image/png": "[encoded data removed]",
      "text/plain": [
       "<matplotlib.figure.Figure at 0x1106d8ac8>"
      ]
     },
     "metadata": {},
     "output_type": "display_data"
    }
   ],
   "source": [
    "# how many migrants?\n",
    "# feature distribution:\n",
    "scientists.plot(kind='density', figsize=(20, 35), layout=(10,4), subplots=True, sharex=False)\n",
    ";\n",
    "# class imbalance issue, both migrants and US migrants make up a relatively small subset of scientists\n",
    "# more on this in model creation phase, but boosting"
   ]
  },
  {
   "cell_type": "markdown",
   "metadata": {},
   "source": [
    "## Target Setting"
   ]
  },
  {
   "cell_type": "code",
   "execution_count": 29,
   "metadata": {
    "collapsed": true
   },
   "outputs": [],
   "source": [
    "def us_migrant(x):\n",
    "    \n",
    "    has_migrated, country_2016, earliest_country = x\n",
    "    \n",
    "    if has_migrated == 1 and country_2016 == 'US' and earliest_country != 'US':\n",
    "        return True\n",
    "    else:\n",
    "        return False"
   ]
  },
  {
   "cell_type": "code",
   "execution_count": 30,
   "metadata": {
    "scrolled": true
   },
   "outputs": [
    {
     "data": {
      "text/html": [
       "<div>\n",
       "<style>\n",
       "    .dataframe thead tr:only-child th {\n",
       "        text-align: right;\n",
       "    }\n",
       "\n",
       "    .dataframe thead th {\n",
       "        text-align: left;\n",
       "    }\n",
       "\n",
       "    .dataframe tbody tr th {\n",
       "        vertical-align: top;\n",
       "    }\n",
       "</style>\n",
       "<table border=\"1\" class=\"dataframe\">\n",
       "  <thead>\n",
       "    <tr style=\"text-align: right;\">\n",
       "      <th></th>\n",
       "      <th>earliest_year</th>\n",
       "      <th>earliest_country</th>\n",
       "      <th>country</th>\n",
       "      <th>start_year</th>\n",
       "      <th>end_year</th>\n",
       "      <th>organization_name</th>\n",
       "      <th>Ringgold_id</th>\n",
       "      <th>affiliation_type</th>\n",
       "      <th>affiliation_role</th>\n",
       "      <th>has_phd</th>\n",
       "      <th>is_phd</th>\n",
       "      <th>phd_country</th>\n",
       "      <th>phd_year</th>\n",
       "      <th>has_migrated</th>\n",
       "      <th>country_2016</th>\n",
       "      <th>US_Migrant</th>\n",
       "    </tr>\n",
       "    <tr>\n",
       "      <th>orcid_id</th>\n",
       "      <th></th>\n",
       "      <th></th>\n",
       "      <th></th>\n",
       "      <th></th>\n",
       "      <th></th>\n",
       "      <th></th>\n",
       "      <th></th>\n",
       "      <th></th>\n",
       "      <th></th>\n",
       "      <th></th>\n",
       "      <th></th>\n",
       "      <th></th>\n",
       "      <th></th>\n",
       "      <th></th>\n",
       "      <th></th>\n",
       "      <th></th>\n",
       "    </tr>\n",
       "  </thead>\n",
       "  <tbody>\n",
       "    <tr>\n",
       "      <th>0000-0001-5000-0138</th>\n",
       "      <td>2014.0</td>\n",
       "      <td>CO</td>\n",
       "      <td>CO</td>\n",
       "      <td>2014.0</td>\n",
       "      <td>2016.0</td>\n",
       "      <td>Universidad Del Rosario</td>\n",
       "      <td>25807</td>\n",
       "      <td>EMPLOYMENT</td>\n",
       "      <td>Profesor Principal</td>\n",
       "      <td>False</td>\n",
       "      <td>False</td>\n",
       "      <td>NaN</td>\n",
       "      <td>NaN</td>\n",
       "      <td>False</td>\n",
       "      <td>CO</td>\n",
       "      <td>False</td>\n",
       "    </tr>\n",
       "    <tr>\n",
       "      <th>0000-0001-5000-1018</th>\n",
       "      <td>2005.0</td>\n",
       "      <td>US</td>\n",
       "      <td>US</td>\n",
       "      <td>2005.0</td>\n",
       "      <td>2010.0</td>\n",
       "      <td>University of Wisconsin Milwaukee</td>\n",
       "      <td>14751</td>\n",
       "      <td>EDUCATION</td>\n",
       "      <td>B.S. Electrical and Computer Engineering</td>\n",
       "      <td>True</td>\n",
       "      <td>False</td>\n",
       "      <td>US</td>\n",
       "      <td>2015.0</td>\n",
       "      <td>False</td>\n",
       "      <td>US</td>\n",
       "      <td>False</td>\n",
       "    </tr>\n",
       "    <tr>\n",
       "      <th>0000-0001-5000-1181</th>\n",
       "      <td>1978.0</td>\n",
       "      <td>RU</td>\n",
       "      <td>RU</td>\n",
       "      <td>1978.0</td>\n",
       "      <td>1982.0</td>\n",
       "      <td>_÷__â_üâÄâ ã_ü_á_üà_µ_¼____ _¼Ä_ÈÎ...</td>\n",
       "      <td>NaN</td>\n",
       "      <td>EDUCATION</td>\n",
       "      <td>âÄ_«_µ__â</td>\n",
       "      <td>False</td>\n",
       "      <td>False</td>\n",
       "      <td>NaN</td>\n",
       "      <td>NaN</td>\n",
       "      <td>False</td>\n",
       "      <td>RU</td>\n",
       "      <td>False</td>\n",
       "    </tr>\n",
       "    <tr>\n",
       "      <th>0000-0001-5000-1923</th>\n",
       "      <td>2004.0</td>\n",
       "      <td>GB</td>\n",
       "      <td>GB</td>\n",
       "      <td>2004.0</td>\n",
       "      <td>2007.0</td>\n",
       "      <td>Durham University - Queens Campus</td>\n",
       "      <td>145277</td>\n",
       "      <td>EDUCATION</td>\n",
       "      <td>BSc (Hons) Applied Psychology</td>\n",
       "      <td>True</td>\n",
       "      <td>False</td>\n",
       "      <td>GB</td>\n",
       "      <td>2016.0</td>\n",
       "      <td>False</td>\n",
       "      <td>GB</td>\n",
       "      <td>False</td>\n",
       "    </tr>\n",
       "    <tr>\n",
       "      <th>0000-0001-5000-223X</th>\n",
       "      <td>1989.0</td>\n",
       "      <td>GB</td>\n",
       "      <td>GB</td>\n",
       "      <td>1989.0</td>\n",
       "      <td>1993.0</td>\n",
       "      <td>University of Manchester</td>\n",
       "      <td>5292</td>\n",
       "      <td>EDUCATION</td>\n",
       "      <td>BSc (Hons.) Applied Plant Sciences</td>\n",
       "      <td>True</td>\n",
       "      <td>False</td>\n",
       "      <td>GB</td>\n",
       "      <td>1998.0</td>\n",
       "      <td>True</td>\n",
       "      <td>GB</td>\n",
       "      <td>False</td>\n",
       "    </tr>\n",
       "  </tbody>\n",
       "</table>\n",
       "</div>"
      ],
      "text/plain": [
       "                     earliest_year earliest_country country  start_year  \\\n",
       "orcid_id                                                                  \n",
       "0000-0001-5000-0138         2014.0               CO      CO      2014.0   \n",
       "0000-0001-5000-1018         2005.0               US      US      2005.0   \n",
       "0000-0001-5000-1181         1978.0               RU      RU      1978.0   \n",
       "0000-0001-5000-1923         2004.0               GB      GB      2004.0   \n",
       "0000-0001-5000-223X         1989.0               GB      GB      1989.0   \n",
       "\n",
       "                     end_year  \\\n",
       "orcid_id                        \n",
       "0000-0001-5000-0138    2016.0   \n",
       "0000-0001-5000-1018    2010.0   \n",
       "0000-0001-5000-1181    1982.0   \n",
       "0000-0001-5000-1923    2007.0   \n",
       "0000-0001-5000-223X    1993.0   \n",
       "\n",
       "                                                     organization_name  \\\n",
       "orcid_id                                                                 \n",
       "0000-0001-5000-0138                            Universidad Del Rosario   \n",
       "0000-0001-5000-1018                  University of Wisconsin Milwaukee   \n",
       "0000-0001-5000-1181  _÷__â_üâÄâ ã_ü_á_üà_µ_¼____ _¼Ä_ÈÎ...   \n",
       "0000-0001-5000-1923                  Durham University - Queens Campus   \n",
       "0000-0001-5000-223X                           University of Manchester   \n",
       "\n",
       "                    Ringgold_id affiliation_type  \\\n",
       "orcid_id                                           \n",
       "0000-0001-5000-0138       25807       EMPLOYMENT   \n",
       "0000-0001-5000-1018       14751        EDUCATION   \n",
       "0000-0001-5000-1181         NaN        EDUCATION   \n",
       "0000-0001-5000-1923      145277        EDUCATION   \n",
       "0000-0001-5000-223X        5292        EDUCATION   \n",
       "\n",
       "                                             affiliation_role  has_phd  \\\n",
       "orcid_id                                                                 \n",
       "0000-0001-5000-0138                        Profesor Principal    False   \n",
       "0000-0001-5000-1018  B.S. Electrical and Computer Engineering     True   \n",
       "0000-0001-5000-1181                            âÄ_«_µ__â    False   \n",
       "0000-0001-5000-1923             BSc (Hons) Applied Psychology     True   \n",
       "0000-0001-5000-223X        BSc (Hons.) Applied Plant Sciences     True   \n",
       "\n",
       "                     is_phd phd_country  phd_year  has_migrated country_2016  \\\n",
       "orcid_id                                                                       \n",
       "0000-0001-5000-0138   False         NaN       NaN         False           CO   \n",
       "0000-0001-5000-1018   False          US    2015.0         False           US   \n",
       "0000-0001-5000-1181   False         NaN       NaN         False           RU   \n",
       "0000-0001-5000-1923   False          GB    2016.0         False           GB   \n",
       "0000-0001-5000-223X   False          GB    1998.0          True           GB   \n",
       "\n",
       "                     US_Migrant  \n",
       "orcid_id                         \n",
       "0000-0001-5000-0138       False  \n",
       "0000-0001-5000-1018       False  \n",
       "0000-0001-5000-1181       False  \n",
       "0000-0001-5000-1923       False  \n",
       "0000-0001-5000-223X       False  "
      ]
     },
     "execution_count": 30,
     "metadata": {},
     "output_type": "execute_result"
    }
   ],
   "source": [
    "scientists['US_Migrant'] = scientists[['has_migrated', 'country_2016','earliest_country']].apply(us_migrant, axis=1)\n",
    "scientists.head()"
   ]
  },
  {
   "cell_type": "markdown",
   "metadata": {},
   "source": [
    "### Drop leaky and redundant columns"
   ]
  },
  {
   "cell_type": "code",
   "execution_count": 31,
   "metadata": {
    "collapsed": true
   },
   "outputs": [],
   "source": [
    "scientists.drop('country',axis=1,inplace = True)\n",
    "scientists.drop('start_year',axis=1,inplace=True)\n",
    "scientists.drop('organization_name', axis=1,inplace = True)\n",
    "scientists.drop('is_phd', axis=1,inplace = True)\n",
    "scientists.drop('phd_country',axis=1,inplace=True)\n",
    "scientists.drop('has_migrated',axis=1,inplace=True)\n",
    "scientists.drop('country_2016',axis=1,inplace=True)"
   ]
  },
  {
   "cell_type": "code",
   "execution_count": 32,
   "metadata": {},
   "outputs": [
    {
     "data": {
      "text/plain": [
       "52872"
      ]
     },
     "execution_count": 32,
     "metadata": {},
     "output_type": "execute_result"
    }
   ],
   "source": [
    "# how many scientists in this data set are US Natives?\n",
    "len(scientists[scientists['earliest_country'] =='US'])"
   ]
  },
  {
   "cell_type": "markdown",
   "metadata": {},
   "source": [
    "### Working Dataset"
   ]
  },
  {
   "cell_type": "code",
   "execution_count": 33,
   "metadata": {
    "collapsed": true
   },
   "outputs": [],
   "source": [
    "# select only foreign born scientists\n",
    "f_scientists = scientists[scientists['earliest_country'] !='US']"
   ]
  },
  {
   "cell_type": "code",
   "execution_count": 34,
   "metadata": {
    "collapsed": true
   },
   "outputs": [],
   "source": [
    "# drop cases where we cannot tell if they are US born, migrants, or other\n",
    "f_scientists.dropna(axis=0, how='any', thresh=None, subset=['earliest_country'], inplace=True)"
   ]
  },
  {
   "cell_type": "code",
   "execution_count": 35,
   "metadata": {
    "collapsed": true
   },
   "outputs": [],
   "source": [
    "f_scientists.drop_duplicates(inplace=True)"
   ]
  },
  {
   "cell_type": "code",
   "execution_count": 36,
   "metadata": {
    "collapsed": true
   },
   "outputs": [],
   "source": [
    "f_scientists.to_csv(\"/Users/macg/Desktop/f_scientists.csv\")"
   ]
  },
  {
   "cell_type": "markdown",
   "metadata": {},
   "source": [
    "### Exploratory Data Analysis"
   ]
  },
  {
   "cell_type": "code",
   "execution_count": 37,
   "metadata": {},
   "outputs": [
    {
     "data": {
      "text/plain": [
       "(263762, 9)"
      ]
     },
     "execution_count": 37,
     "metadata": {},
     "output_type": "execute_result"
    }
   ],
   "source": [
    "f_scientists.shape"
   ]
  },
  {
   "cell_type": "markdown",
   "metadata": {},
   "source": [
    "### How many missing values?"
   ]
  },
  {
   "cell_type": "code",
   "execution_count": 38,
   "metadata": {},
   "outputs": [
    {
     "data": {
      "text/plain": [
       "earliest_year            0\n",
       "earliest_country         0\n",
       "end_year                 0\n",
       "Ringgold_id          71523\n",
       "affiliation_type         0\n",
       "affiliation_role     18521\n",
       "has_phd                  0\n",
       "phd_year            144347\n",
       "US_Migrant               0\n",
       "dtype: int64"
      ]
     },
     "execution_count": 38,
     "metadata": {},
     "output_type": "execute_result"
    }
   ],
   "source": [
    "# drop phd_year?\n",
    "# drop Ringgold_id\n",
    "len(f_scientists) - f_scientists.count()"
   ]
  },
  {
   "cell_type": "markdown",
   "metadata": {},
   "source": [
    "### Investigate further leaks and problem features"
   ]
  },
  {
   "cell_type": "code",
   "execution_count": 39,
   "metadata": {},
   "outputs": [
    {
     "name": "stdout",
     "output_type": "stream",
     "text": [
      "119415\n",
      "128394\n",
      "0.9300668255525959\n"
     ]
    }
   ],
   "source": [
    "# How many scientists have a phd?\n",
    "# How many scientists have a phd and are missing phd year?\n",
    "\n",
    "len(f_scientists[f_scientists['has_phd']== True])\n",
    "\n",
    "doctors = f_scientists[f_scientists['has_phd']== True]\n",
    "\n",
    "doctors[doctors['phd_year'].isnull()]\n",
    "\n",
    "print(len(doctors)- len(doctors[doctors['phd_year'].isnull()]))\n",
    "print(len(doctors))\n",
    "print (119415/128394)\n",
    "\n",
    "# 93% of scientists with PhDs have a phd_year"
   ]
  },
  {
   "cell_type": "code",
   "execution_count": 40,
   "metadata": {},
   "outputs": [
    {
     "data": {
      "text/plain": [
       "2008.4932378679396"
      ]
     },
     "execution_count": 40,
     "metadata": {},
     "output_type": "execute_result"
    }
   ],
   "source": [
    "doctors.phd_year.mean()"
   ]
  },
  {
   "cell_type": "code",
   "execution_count": 41,
   "metadata": {},
   "outputs": [
    {
     "name": "stdout",
     "output_type": "stream",
     "text": [
      "<class 'pandas.core.frame.DataFrame'>\n",
      "Index: 263762 entries, 0000-0001-5000-0138 to 0000-0002-5528-3154\n",
      "Data columns (total 9 columns):\n",
      "earliest_year       263762 non-null float64\n",
      "earliest_country    263762 non-null object\n",
      "end_year            263762 non-null float64\n",
      "Ringgold_id         192239 non-null object\n",
      "affiliation_type    263762 non-null object\n",
      "affiliation_role    245241 non-null object\n",
      "has_phd             263762 non-null bool\n",
      "phd_year            119415 non-null float64\n",
      "US_Migrant          263762 non-null bool\n",
      "dtypes: bool(2), float64(3), object(4)\n",
      "memory usage: 16.6+ MB\n"
     ]
    }
   ],
   "source": [
    "f_scientists.info()"
   ]
  },
  {
   "cell_type": "code",
   "execution_count": 42,
   "metadata": {},
   "outputs": [
    {
     "data": {
      "text/html": [
       "<div>\n",
       "<style>\n",
       "    .dataframe thead tr:only-child th {\n",
       "        text-align: right;\n",
       "    }\n",
       "\n",
       "    .dataframe thead th {\n",
       "        text-align: left;\n",
       "    }\n",
       "\n",
       "    .dataframe tbody tr th {\n",
       "        vertical-align: top;\n",
       "    }\n",
       "</style>\n",
       "<table border=\"1\" class=\"dataframe\">\n",
       "  <thead>\n",
       "    <tr style=\"text-align: right;\">\n",
       "      <th></th>\n",
       "      <th>earliest_year</th>\n",
       "      <th>end_year</th>\n",
       "      <th>phd_year</th>\n",
       "    </tr>\n",
       "  </thead>\n",
       "  <tbody>\n",
       "    <tr>\n",
       "      <th>count</th>\n",
       "      <td>263762.000000</td>\n",
       "      <td>263762.000000</td>\n",
       "      <td>119415.000000</td>\n",
       "    </tr>\n",
       "    <tr>\n",
       "      <th>mean</th>\n",
       "      <td>2000.444909</td>\n",
       "      <td>2006.883133</td>\n",
       "      <td>2008.493238</td>\n",
       "    </tr>\n",
       "    <tr>\n",
       "      <th>std</th>\n",
       "      <td>11.503786</td>\n",
       "      <td>10.839454</td>\n",
       "      <td>9.345386</td>\n",
       "    </tr>\n",
       "    <tr>\n",
       "      <th>min</th>\n",
       "      <td>1913.000000</td>\n",
       "      <td>1917.000000</td>\n",
       "      <td>1953.000000</td>\n",
       "    </tr>\n",
       "    <tr>\n",
       "      <th>25%</th>\n",
       "      <td>1994.000000</td>\n",
       "      <td>2002.000000</td>\n",
       "      <td>2005.000000</td>\n",
       "    </tr>\n",
       "    <tr>\n",
       "      <th>50%</th>\n",
       "      <td>2003.000000</td>\n",
       "      <td>2011.000000</td>\n",
       "      <td>2012.000000</td>\n",
       "    </tr>\n",
       "    <tr>\n",
       "      <th>75%</th>\n",
       "      <td>2009.000000</td>\n",
       "      <td>2016.000000</td>\n",
       "      <td>2016.000000</td>\n",
       "    </tr>\n",
       "    <tr>\n",
       "      <th>max</th>\n",
       "      <td>2017.000000</td>\n",
       "      <td>2019.000000</td>\n",
       "      <td>2017.000000</td>\n",
       "    </tr>\n",
       "  </tbody>\n",
       "</table>\n",
       "</div>"
      ],
      "text/plain": [
       "       earliest_year       end_year       phd_year\n",
       "count  263762.000000  263762.000000  119415.000000\n",
       "mean     2000.444909    2006.883133    2008.493238\n",
       "std        11.503786      10.839454       9.345386\n",
       "min      1913.000000    1917.000000    1953.000000\n",
       "25%      1994.000000    2002.000000    2005.000000\n",
       "50%      2003.000000    2011.000000    2012.000000\n",
       "75%      2009.000000    2016.000000    2016.000000\n",
       "max      2017.000000    2019.000000    2017.000000"
      ]
     },
     "execution_count": 42,
     "metadata": {},
     "output_type": "execute_result"
    }
   ],
   "source": [
    "f_scientists.describe()"
   ]
  },
  {
   "cell_type": "code",
   "execution_count": 43,
   "metadata": {},
   "outputs": [
    {
     "data": {
      "text/plain": [
       "7727"
      ]
     },
     "execution_count": 43,
     "metadata": {},
     "output_type": "execute_result"
    }
   ],
   "source": [
    "# How many US migrants are there?\n",
    "us_migrants =f_scientists[f_scientists['US_Migrant']==True]\n",
    "\n",
    "len(us_migrants)\n",
    "#7727 US migrants\n",
    "# only 3% of foreign scientists in the dataset are US migrants"
   ]
  },
  {
   "cell_type": "code",
   "execution_count": 44,
   "metadata": {},
   "outputs": [
    {
     "data": {
      "text/html": [
       "<div>\n",
       "<style>\n",
       "    .dataframe thead tr:only-child th {\n",
       "        text-align: right;\n",
       "    }\n",
       "\n",
       "    .dataframe thead th {\n",
       "        text-align: left;\n",
       "    }\n",
       "\n",
       "    .dataframe tbody tr th {\n",
       "        vertical-align: top;\n",
       "    }\n",
       "</style>\n",
       "<table border=\"1\" class=\"dataframe\">\n",
       "  <thead>\n",
       "    <tr style=\"text-align: right;\">\n",
       "      <th></th>\n",
       "      <th>Not US Migrant</th>\n",
       "      <th>US Migrant</th>\n",
       "    </tr>\n",
       "    <tr>\n",
       "      <th>has_phd</th>\n",
       "      <th></th>\n",
       "      <th></th>\n",
       "    </tr>\n",
       "  </thead>\n",
       "  <tbody>\n",
       "    <tr>\n",
       "      <th>False</th>\n",
       "      <td>133711</td>\n",
       "      <td>1657</td>\n",
       "    </tr>\n",
       "    <tr>\n",
       "      <th>True</th>\n",
       "      <td>122324</td>\n",
       "      <td>6070</td>\n",
       "    </tr>\n",
       "  </tbody>\n",
       "</table>\n",
       "</div>"
      ],
      "text/plain": [
       "         Not US Migrant  US Migrant\n",
       "has_phd                            \n",
       "False            133711        1657\n",
       "True             122324        6070"
      ]
     },
     "execution_count": 44,
     "metadata": {},
     "output_type": "execute_result"
    }
   ],
   "source": [
    "migrant_doctors = pd.crosstab(index=[f_scientists.has_phd], columns=[f_scientists.US_Migrant])\n",
    "migrant_doctors.columns = [['Not US Migrant','US Migrant']]\n",
    "migrant_doctors\n",
    "# Doctors seem much more likely to migrate to the US than non-doctors. How much is a function of age vs skilled worker\n",
    "# attraction?"
   ]
  },
  {
   "cell_type": "code",
   "execution_count": 45,
   "metadata": {},
   "outputs": [
    {
     "name": "stdout",
     "output_type": "stream",
     "text": [
      "earliest_year   -1.107296\n",
      "end_year        -1.438655\n",
      "has_phd          0.052900\n",
      "phd_year        -1.669959\n",
      "US_Migrant       5.582620\n",
      "dtype: float64\n"
     ]
    }
   ],
   "source": [
    "skew = f_scientists.skew()\n",
    "print(skew)"
   ]
  },
  {
   "cell_type": "markdown",
   "metadata": {},
   "source": [
    "### Feature Imputation"
   ]
  },
  {
   "cell_type": "code",
   "execution_count": 46,
   "metadata": {
    "collapsed": true
   },
   "outputs": [],
   "source": [
    "def phd_age(x):\n",
    "    \n",
    "    has_phd, earliest_year, phd_year = x\n",
    "    \n",
    "    if has_phd == 1 and earliest_year != phd_year:\n",
    "        return phd_year-earliest_year\n",
    "    else:\n",
    "        return"
   ]
  },
  {
   "cell_type": "code",
   "execution_count": 47,
   "metadata": {},
   "outputs": [
    {
     "data": {
      "text/html": [
       "<div>\n",
       "<style>\n",
       "    .dataframe thead tr:only-child th {\n",
       "        text-align: right;\n",
       "    }\n",
       "\n",
       "    .dataframe thead th {\n",
       "        text-align: left;\n",
       "    }\n",
       "\n",
       "    .dataframe tbody tr th {\n",
       "        vertical-align: top;\n",
       "    }\n",
       "</style>\n",
       "<table border=\"1\" class=\"dataframe\">\n",
       "  <thead>\n",
       "    <tr style=\"text-align: right;\">\n",
       "      <th></th>\n",
       "      <th>earliest_year</th>\n",
       "      <th>earliest_country</th>\n",
       "      <th>end_year</th>\n",
       "      <th>Ringgold_id</th>\n",
       "      <th>affiliation_type</th>\n",
       "      <th>affiliation_role</th>\n",
       "      <th>has_phd</th>\n",
       "      <th>phd_year</th>\n",
       "      <th>US_Migrant</th>\n",
       "      <th>phd_age</th>\n",
       "    </tr>\n",
       "    <tr>\n",
       "      <th>orcid_id</th>\n",
       "      <th></th>\n",
       "      <th></th>\n",
       "      <th></th>\n",
       "      <th></th>\n",
       "      <th></th>\n",
       "      <th></th>\n",
       "      <th></th>\n",
       "      <th></th>\n",
       "      <th></th>\n",
       "      <th></th>\n",
       "    </tr>\n",
       "  </thead>\n",
       "  <tbody>\n",
       "    <tr>\n",
       "      <th>0000-0001-5000-0138</th>\n",
       "      <td>2014.0</td>\n",
       "      <td>CO</td>\n",
       "      <td>2016.0</td>\n",
       "      <td>25807</td>\n",
       "      <td>EMPLOYMENT</td>\n",
       "      <td>Profesor Principal</td>\n",
       "      <td>False</td>\n",
       "      <td>NaN</td>\n",
       "      <td>False</td>\n",
       "      <td>NaN</td>\n",
       "    </tr>\n",
       "    <tr>\n",
       "      <th>0000-0001-5000-1181</th>\n",
       "      <td>1978.0</td>\n",
       "      <td>RU</td>\n",
       "      <td>1982.0</td>\n",
       "      <td>NaN</td>\n",
       "      <td>EDUCATION</td>\n",
       "      <td>âÄ_«_µ__â</td>\n",
       "      <td>False</td>\n",
       "      <td>NaN</td>\n",
       "      <td>False</td>\n",
       "      <td>NaN</td>\n",
       "    </tr>\n",
       "    <tr>\n",
       "      <th>0000-0001-5000-1923</th>\n",
       "      <td>2004.0</td>\n",
       "      <td>GB</td>\n",
       "      <td>2007.0</td>\n",
       "      <td>145277</td>\n",
       "      <td>EDUCATION</td>\n",
       "      <td>BSc (Hons) Applied Psychology</td>\n",
       "      <td>True</td>\n",
       "      <td>2016.0</td>\n",
       "      <td>False</td>\n",
       "      <td>12.0</td>\n",
       "    </tr>\n",
       "    <tr>\n",
       "      <th>0000-0001-5000-223X</th>\n",
       "      <td>1989.0</td>\n",
       "      <td>GB</td>\n",
       "      <td>1993.0</td>\n",
       "      <td>5292</td>\n",
       "      <td>EDUCATION</td>\n",
       "      <td>BSc (Hons.) Applied Plant Sciences</td>\n",
       "      <td>True</td>\n",
       "      <td>1998.0</td>\n",
       "      <td>False</td>\n",
       "      <td>9.0</td>\n",
       "    </tr>\n",
       "    <tr>\n",
       "      <th>0000-0001-5000-3822</th>\n",
       "      <td>1998.0</td>\n",
       "      <td>CA</td>\n",
       "      <td>2002.0</td>\n",
       "      <td>3158</td>\n",
       "      <td>EDUCATION</td>\n",
       "      <td>Bachelor of Design, Visual Communications</td>\n",
       "      <td>True</td>\n",
       "      <td>2016.0</td>\n",
       "      <td>False</td>\n",
       "      <td>18.0</td>\n",
       "    </tr>\n",
       "  </tbody>\n",
       "</table>\n",
       "</div>"
      ],
      "text/plain": [
       "                     earliest_year earliest_country  end_year Ringgold_id  \\\n",
       "orcid_id                                                                    \n",
       "0000-0001-5000-0138         2014.0               CO    2016.0       25807   \n",
       "0000-0001-5000-1181         1978.0               RU    1982.0         NaN   \n",
       "0000-0001-5000-1923         2004.0               GB    2007.0      145277   \n",
       "0000-0001-5000-223X         1989.0               GB    1993.0        5292   \n",
       "0000-0001-5000-3822         1998.0               CA    2002.0        3158   \n",
       "\n",
       "                    affiliation_type  \\\n",
       "orcid_id                               \n",
       "0000-0001-5000-0138       EMPLOYMENT   \n",
       "0000-0001-5000-1181        EDUCATION   \n",
       "0000-0001-5000-1923        EDUCATION   \n",
       "0000-0001-5000-223X        EDUCATION   \n",
       "0000-0001-5000-3822        EDUCATION   \n",
       "\n",
       "                                              affiliation_role  has_phd  \\\n",
       "orcid_id                                                                  \n",
       "0000-0001-5000-0138                         Profesor Principal    False   \n",
       "0000-0001-5000-1181                             âÄ_«_µ__â    False   \n",
       "0000-0001-5000-1923              BSc (Hons) Applied Psychology     True   \n",
       "0000-0001-5000-223X         BSc (Hons.) Applied Plant Sciences     True   \n",
       "0000-0001-5000-3822  Bachelor of Design, Visual Communications     True   \n",
       "\n",
       "                     phd_year  US_Migrant  phd_age  \n",
       "orcid_id                                            \n",
       "0000-0001-5000-0138       NaN       False      NaN  \n",
       "0000-0001-5000-1181       NaN       False      NaN  \n",
       "0000-0001-5000-1923    2016.0       False     12.0  \n",
       "0000-0001-5000-223X    1998.0       False      9.0  \n",
       "0000-0001-5000-3822    2016.0       False     18.0  "
      ]
     },
     "execution_count": 47,
     "metadata": {},
     "output_type": "execute_result"
    }
   ],
   "source": [
    "f_scientists['phd_age'] = f_scientists[['has_phd', 'earliest_year','phd_year']].apply(phd_age, axis=1)\n",
    "f_scientists.head()"
   ]
  },
  {
   "cell_type": "code",
   "execution_count": 48,
   "metadata": {},
   "outputs": [
    {
     "data": {
      "text/plain": [
       "82579"
      ]
     },
     "execution_count": 48,
     "metadata": {},
     "output_type": "execute_result"
    }
   ],
   "source": [
    "f_scientists.affiliation_role.nunique()"
   ]
  },
  {
   "cell_type": "code",
   "execution_count": 49,
   "metadata": {
    "collapsed": true
   },
   "outputs": [],
   "source": [
    "f_scientists.affiliation_role = f_scientists.affiliation_role.str.lower()"
   ]
  },
  {
   "cell_type": "code",
   "execution_count": 50,
   "metadata": {},
   "outputs": [
    {
     "data": {
      "text/plain": [
       "76083"
      ]
     },
     "execution_count": 50,
     "metadata": {},
     "output_type": "execute_result"
    }
   ],
   "source": [
    "f_scientists.affiliation_role.nunique()"
   ]
  },
  {
   "cell_type": "code",
   "execution_count": 51,
   "metadata": {
    "collapsed": true
   },
   "outputs": [],
   "source": [
    "# classifying affiliation role into most common types using list of most common areas of study according to NSF\n",
    "# doctorates from 1985 to 2014"
   ]
  },
  {
   "cell_type": "code",
   "execution_count": 52,
   "metadata": {
    "collapsed": true
   },
   "outputs": [],
   "source": [
    "life_sci =['agri', 'agricultur','bio','medi','natur']\n",
    "ls_terms = '|'.join(life_sci)\n",
    "phys_sci = ['chem','comp','geo','math','phys','astro']\n",
    "ps_terms = '|'.join(phys_sci)\n",
    "soc_sci = ['anthr','econ','poli','psy','socio']\n",
    "soc_terms = '|'.join(soc_sci)\n",
    "eng = ['aero','astro','chem','civ','engin','elec','manu','material','mech']\n",
    "eng_terms = '|'.join(eng)\n",
    "hum = ['lang','letter','hist']\n",
    "hum_terms = '|'.join(hum)\n",
    "educ = ['educ','admin','teach']\n",
    "educ_terms = '|'.join(educ)"
   ]
  },
  {
   "cell_type": "code",
   "execution_count": 53,
   "metadata": {
    "collapsed": true
   },
   "outputs": [],
   "source": [
    "f_scientists['life_science']= f_scientists.affiliation_role.str.contains(ls_terms)\n",
    "f_scientists['physical_science']= f_scientists.affiliation_role.str.contains(ps_terms)\n",
    "f_scientists['social_science']= f_scientists.affiliation_role.str.contains(soc_terms)\n",
    "f_scientists['engineering']= f_scientists.affiliation_role.str.contains(eng_terms)\n",
    "f_scientists['humanities']= f_scientists.affiliation_role.str.contains(hum_terms)\n",
    "f_scientists['education']= f_scientists.affiliation_role.str.contains(educ_terms)"
   ]
  },
  {
   "cell_type": "code",
   "execution_count": 54,
   "metadata": {},
   "outputs": [
    {
     "data": {
      "text/html": [
       "<div>\n",
       "<style>\n",
       "    .dataframe thead tr:only-child th {\n",
       "        text-align: right;\n",
       "    }\n",
       "\n",
       "    .dataframe thead th {\n",
       "        text-align: left;\n",
       "    }\n",
       "\n",
       "    .dataframe tbody tr th {\n",
       "        vertical-align: top;\n",
       "    }\n",
       "</style>\n",
       "<table border=\"1\" class=\"dataframe\">\n",
       "  <thead>\n",
       "    <tr style=\"text-align: right;\">\n",
       "      <th></th>\n",
       "      <th>earliest_year</th>\n",
       "      <th>earliest_country</th>\n",
       "      <th>end_year</th>\n",
       "      <th>Ringgold_id</th>\n",
       "      <th>affiliation_type</th>\n",
       "      <th>affiliation_role</th>\n",
       "      <th>has_phd</th>\n",
       "      <th>phd_year</th>\n",
       "      <th>US_Migrant</th>\n",
       "      <th>phd_age</th>\n",
       "      <th>life_science</th>\n",
       "      <th>physical_science</th>\n",
       "      <th>social_science</th>\n",
       "      <th>engineering</th>\n",
       "      <th>humanities</th>\n",
       "      <th>education</th>\n",
       "    </tr>\n",
       "    <tr>\n",
       "      <th>orcid_id</th>\n",
       "      <th></th>\n",
       "      <th></th>\n",
       "      <th></th>\n",
       "      <th></th>\n",
       "      <th></th>\n",
       "      <th></th>\n",
       "      <th></th>\n",
       "      <th></th>\n",
       "      <th></th>\n",
       "      <th></th>\n",
       "      <th></th>\n",
       "      <th></th>\n",
       "      <th></th>\n",
       "      <th></th>\n",
       "      <th></th>\n",
       "      <th></th>\n",
       "    </tr>\n",
       "  </thead>\n",
       "  <tbody>\n",
       "    <tr>\n",
       "      <th>0000-0001-5002-0227</th>\n",
       "      <td>1990.0</td>\n",
       "      <td>AU</td>\n",
       "      <td>2016.0</td>\n",
       "      <td>5673</td>\n",
       "      <td>EMPLOYMENT</td>\n",
       "      <td>professor of agricultural biotechnology</td>\n",
       "      <td>False</td>\n",
       "      <td>NaN</td>\n",
       "      <td>False</td>\n",
       "      <td>NaN</td>\n",
       "      <td>True</td>\n",
       "      <td>False</td>\n",
       "      <td>False</td>\n",
       "      <td>False</td>\n",
       "      <td>False</td>\n",
       "      <td>False</td>\n",
       "    </tr>\n",
       "    <tr>\n",
       "      <th>0000-0001-5002-2126</th>\n",
       "      <td>2008.0</td>\n",
       "      <td>CN</td>\n",
       "      <td>2012.0</td>\n",
       "      <td>47890</td>\n",
       "      <td>EDUCATION</td>\n",
       "      <td>bachelor in biotechnology</td>\n",
       "      <td>False</td>\n",
       "      <td>NaN</td>\n",
       "      <td>False</td>\n",
       "      <td>NaN</td>\n",
       "      <td>True</td>\n",
       "      <td>False</td>\n",
       "      <td>False</td>\n",
       "      <td>False</td>\n",
       "      <td>False</td>\n",
       "      <td>False</td>\n",
       "    </tr>\n",
       "    <tr>\n",
       "      <th>0000-0001-5002-2708</th>\n",
       "      <td>1995.0</td>\n",
       "      <td>GB</td>\n",
       "      <td>2016.0</td>\n",
       "      <td>NaN</td>\n",
       "      <td>EMPLOYMENT</td>\n",
       "      <td>professor of molecular plant biology</td>\n",
       "      <td>False</td>\n",
       "      <td>NaN</td>\n",
       "      <td>False</td>\n",
       "      <td>NaN</td>\n",
       "      <td>True</td>\n",
       "      <td>False</td>\n",
       "      <td>False</td>\n",
       "      <td>False</td>\n",
       "      <td>False</td>\n",
       "      <td>False</td>\n",
       "    </tr>\n",
       "    <tr>\n",
       "      <th>0000-0001-5003-299X</th>\n",
       "      <td>2006.0</td>\n",
       "      <td>IR</td>\n",
       "      <td>2010.0</td>\n",
       "      <td>48437</td>\n",
       "      <td>EDUCATION</td>\n",
       "      <td>b.sc - biomedical engineering</td>\n",
       "      <td>False</td>\n",
       "      <td>NaN</td>\n",
       "      <td>False</td>\n",
       "      <td>NaN</td>\n",
       "      <td>True</td>\n",
       "      <td>False</td>\n",
       "      <td>False</td>\n",
       "      <td>True</td>\n",
       "      <td>False</td>\n",
       "      <td>False</td>\n",
       "    </tr>\n",
       "    <tr>\n",
       "      <th>0000-0001-5003-6018</th>\n",
       "      <td>1996.0</td>\n",
       "      <td>VE</td>\n",
       "      <td>2007.0</td>\n",
       "      <td>227274</td>\n",
       "      <td>EDUCATION</td>\n",
       "      <td>licenciada en biologia</td>\n",
       "      <td>False</td>\n",
       "      <td>NaN</td>\n",
       "      <td>False</td>\n",
       "      <td>NaN</td>\n",
       "      <td>True</td>\n",
       "      <td>False</td>\n",
       "      <td>False</td>\n",
       "      <td>False</td>\n",
       "      <td>False</td>\n",
       "      <td>False</td>\n",
       "    </tr>\n",
       "    <tr>\n",
       "      <th>0000-0001-5003-6595</th>\n",
       "      <td>2004.0</td>\n",
       "      <td>BR</td>\n",
       "      <td>2006.0</td>\n",
       "      <td>37903</td>\n",
       "      <td>EDUCATION</td>\n",
       "      <td>master in molecular and cell biology</td>\n",
       "      <td>False</td>\n",
       "      <td>NaN</td>\n",
       "      <td>False</td>\n",
       "      <td>NaN</td>\n",
       "      <td>True</td>\n",
       "      <td>False</td>\n",
       "      <td>False</td>\n",
       "      <td>False</td>\n",
       "      <td>False</td>\n",
       "      <td>False</td>\n",
       "    </tr>\n",
       "    <tr>\n",
       "      <th>0000-0001-5004-5459</th>\n",
       "      <td>2006.0</td>\n",
       "      <td>BR</td>\n",
       "      <td>2010.0</td>\n",
       "      <td>67825</td>\n",
       "      <td>EDUCATION</td>\n",
       "      <td>biologist</td>\n",
       "      <td>False</td>\n",
       "      <td>NaN</td>\n",
       "      <td>False</td>\n",
       "      <td>NaN</td>\n",
       "      <td>True</td>\n",
       "      <td>False</td>\n",
       "      <td>False</td>\n",
       "      <td>False</td>\n",
       "      <td>False</td>\n",
       "      <td>False</td>\n",
       "    </tr>\n",
       "    <tr>\n",
       "      <th>0000-0001-5004-7315</th>\n",
       "      <td>2006.0</td>\n",
       "      <td>ES</td>\n",
       "      <td>2011.0</td>\n",
       "      <td>16754</td>\n",
       "      <td>EDUCATION</td>\n",
       "      <td>biochemistry</td>\n",
       "      <td>False</td>\n",
       "      <td>NaN</td>\n",
       "      <td>False</td>\n",
       "      <td>NaN</td>\n",
       "      <td>True</td>\n",
       "      <td>True</td>\n",
       "      <td>False</td>\n",
       "      <td>True</td>\n",
       "      <td>False</td>\n",
       "      <td>False</td>\n",
       "    </tr>\n",
       "    <tr>\n",
       "      <th>0000-0001-5006-0819</th>\n",
       "      <td>1996.0</td>\n",
       "      <td>DE</td>\n",
       "      <td>2002.0</td>\n",
       "      <td>9379</td>\n",
       "      <td>EDUCATION</td>\n",
       "      <td>diplom biologe</td>\n",
       "      <td>True</td>\n",
       "      <td>2006.0</td>\n",
       "      <td>False</td>\n",
       "      <td>10.0</td>\n",
       "      <td>True</td>\n",
       "      <td>False</td>\n",
       "      <td>False</td>\n",
       "      <td>False</td>\n",
       "      <td>False</td>\n",
       "      <td>False</td>\n",
       "    </tr>\n",
       "    <tr>\n",
       "      <th>0000-0001-5006-1192</th>\n",
       "      <td>1986.0</td>\n",
       "      <td>KR</td>\n",
       "      <td>1992.0</td>\n",
       "      <td>89481</td>\n",
       "      <td>EDUCATION</td>\n",
       "      <td>medical doctor</td>\n",
       "      <td>False</td>\n",
       "      <td>NaN</td>\n",
       "      <td>False</td>\n",
       "      <td>NaN</td>\n",
       "      <td>True</td>\n",
       "      <td>False</td>\n",
       "      <td>False</td>\n",
       "      <td>False</td>\n",
       "      <td>False</td>\n",
       "      <td>False</td>\n",
       "    </tr>\n",
       "    <tr>\n",
       "      <th>0000-0001-5006-9506</th>\n",
       "      <td>1979.0</td>\n",
       "      <td>IT</td>\n",
       "      <td>1984.0</td>\n",
       "      <td>161141</td>\n",
       "      <td>EDUCATION</td>\n",
       "      <td>biological sciences</td>\n",
       "      <td>True</td>\n",
       "      <td>1993.0</td>\n",
       "      <td>False</td>\n",
       "      <td>14.0</td>\n",
       "      <td>True</td>\n",
       "      <td>False</td>\n",
       "      <td>False</td>\n",
       "      <td>False</td>\n",
       "      <td>False</td>\n",
       "      <td>False</td>\n",
       "    </tr>\n",
       "    <tr>\n",
       "      <th>0000-0001-5008-0457</th>\n",
       "      <td>2002.0</td>\n",
       "      <td>PL</td>\n",
       "      <td>2007.0</td>\n",
       "      <td>http://dx.doi.org/10.13039/501100005643</td>\n",
       "      <td>EDUCATION</td>\n",
       "      <td>m.sc. in biology majoring in biochemistry (mag...</td>\n",
       "      <td>True</td>\n",
       "      <td>2012.0</td>\n",
       "      <td>False</td>\n",
       "      <td>10.0</td>\n",
       "      <td>True</td>\n",
       "      <td>True</td>\n",
       "      <td>False</td>\n",
       "      <td>True</td>\n",
       "      <td>False</td>\n",
       "      <td>False</td>\n",
       "    </tr>\n",
       "    <tr>\n",
       "      <th>0000-0001-5008-2575</th>\n",
       "      <td>1992.0</td>\n",
       "      <td>BR</td>\n",
       "      <td>1995.0</td>\n",
       "      <td>133647</td>\n",
       "      <td>EDUCATION</td>\n",
       "      <td>farmacì»utico- bioquì_mico</td>\n",
       "      <td>False</td>\n",
       "      <td>NaN</td>\n",
       "      <td>False</td>\n",
       "      <td>NaN</td>\n",
       "      <td>True</td>\n",
       "      <td>False</td>\n",
       "      <td>False</td>\n",
       "      <td>False</td>\n",
       "      <td>False</td>\n",
       "      <td>False</td>\n",
       "    </tr>\n",
       "    <tr>\n",
       "      <th>0000-0001-5008-7683</th>\n",
       "      <td>2005.0</td>\n",
       "      <td>BR</td>\n",
       "      <td>2008.0</td>\n",
       "      <td>385413</td>\n",
       "      <td>EDUCATION</td>\n",
       "      <td>biomì©dico</td>\n",
       "      <td>False</td>\n",
       "      <td>NaN</td>\n",
       "      <td>False</td>\n",
       "      <td>NaN</td>\n",
       "      <td>True</td>\n",
       "      <td>False</td>\n",
       "      <td>False</td>\n",
       "      <td>False</td>\n",
       "      <td>False</td>\n",
       "      <td>False</td>\n",
       "    </tr>\n",
       "    <tr>\n",
       "      <th>0000-0001-5009-2220</th>\n",
       "      <td>1968.0</td>\n",
       "      <td>IT</td>\n",
       "      <td>1974.0</td>\n",
       "      <td>18998</td>\n",
       "      <td>EDUCATION</td>\n",
       "      <td>medicina e chirurgia</td>\n",
       "      <td>False</td>\n",
       "      <td>NaN</td>\n",
       "      <td>False</td>\n",
       "      <td>NaN</td>\n",
       "      <td>True</td>\n",
       "      <td>False</td>\n",
       "      <td>False</td>\n",
       "      <td>False</td>\n",
       "      <td>False</td>\n",
       "      <td>False</td>\n",
       "    </tr>\n",
       "    <tr>\n",
       "      <th>0000-0001-5009-4779</th>\n",
       "      <td>2007.0</td>\n",
       "      <td>CL</td>\n",
       "      <td>2011.0</td>\n",
       "      <td>NaN</td>\n",
       "      <td>EDUCATION</td>\n",
       "      <td>bachelor of biochemistry</td>\n",
       "      <td>True</td>\n",
       "      <td>2016.0</td>\n",
       "      <td>False</td>\n",
       "      <td>9.0</td>\n",
       "      <td>True</td>\n",
       "      <td>True</td>\n",
       "      <td>False</td>\n",
       "      <td>True</td>\n",
       "      <td>False</td>\n",
       "      <td>False</td>\n",
       "    </tr>\n",
       "    <tr>\n",
       "      <th>0000-0001-5011-5875</th>\n",
       "      <td>2011.0</td>\n",
       "      <td>PK</td>\n",
       "      <td>2016.0</td>\n",
       "      <td>66909</td>\n",
       "      <td>EDUCATION</td>\n",
       "      <td>medical laboratory technologist</td>\n",
       "      <td>False</td>\n",
       "      <td>NaN</td>\n",
       "      <td>False</td>\n",
       "      <td>NaN</td>\n",
       "      <td>True</td>\n",
       "      <td>False</td>\n",
       "      <td>False</td>\n",
       "      <td>False</td>\n",
       "      <td>False</td>\n",
       "      <td>False</td>\n",
       "    </tr>\n",
       "    <tr>\n",
       "      <th>0000-0001-5013-0012</th>\n",
       "      <td>1999.0</td>\n",
       "      <td>KE</td>\n",
       "      <td>2003.0</td>\n",
       "      <td>107854</td>\n",
       "      <td>EDUCATION</td>\n",
       "      <td>bsc. environmental and biosystems engineering</td>\n",
       "      <td>True</td>\n",
       "      <td>2012.0</td>\n",
       "      <td>False</td>\n",
       "      <td>13.0</td>\n",
       "      <td>True</td>\n",
       "      <td>False</td>\n",
       "      <td>False</td>\n",
       "      <td>True</td>\n",
       "      <td>False</td>\n",
       "      <td>False</td>\n",
       "    </tr>\n",
       "    <tr>\n",
       "      <th>0000-0001-5013-1680</th>\n",
       "      <td>2002.0</td>\n",
       "      <td>AR</td>\n",
       "      <td>2009.0</td>\n",
       "      <td>151280</td>\n",
       "      <td>EDUCATION</td>\n",
       "      <td>profesor de enseì±anza media y superior en cie...</td>\n",
       "      <td>True</td>\n",
       "      <td>2016.0</td>\n",
       "      <td>False</td>\n",
       "      <td>14.0</td>\n",
       "      <td>True</td>\n",
       "      <td>False</td>\n",
       "      <td>False</td>\n",
       "      <td>False</td>\n",
       "      <td>False</td>\n",
       "      <td>False</td>\n",
       "    </tr>\n",
       "    <tr>\n",
       "      <th>0000-0001-5013-6246</th>\n",
       "      <td>1993.0</td>\n",
       "      <td>BR</td>\n",
       "      <td>1998.0</td>\n",
       "      <td>67782</td>\n",
       "      <td>EDUCATION</td>\n",
       "      <td>pharmacy and biochemistry</td>\n",
       "      <td>False</td>\n",
       "      <td>NaN</td>\n",
       "      <td>False</td>\n",
       "      <td>NaN</td>\n",
       "      <td>True</td>\n",
       "      <td>True</td>\n",
       "      <td>False</td>\n",
       "      <td>True</td>\n",
       "      <td>False</td>\n",
       "      <td>False</td>\n",
       "    </tr>\n",
       "    <tr>\n",
       "      <th>0000-0001-5014-0499</th>\n",
       "      <td>2010.0</td>\n",
       "      <td>ES</td>\n",
       "      <td>2014.0</td>\n",
       "      <td>NaN</td>\n",
       "      <td>EDUCATION</td>\n",
       "      <td>phd in molecular and cellular biology</td>\n",
       "      <td>True</td>\n",
       "      <td>2014.0</td>\n",
       "      <td>False</td>\n",
       "      <td>4.0</td>\n",
       "      <td>True</td>\n",
       "      <td>False</td>\n",
       "      <td>False</td>\n",
       "      <td>False</td>\n",
       "      <td>False</td>\n",
       "      <td>False</td>\n",
       "    </tr>\n",
       "    <tr>\n",
       "      <th>0000-0001-5014-430X</th>\n",
       "      <td>1992.0</td>\n",
       "      <td>IT</td>\n",
       "      <td>1997.0</td>\n",
       "      <td>18959</td>\n",
       "      <td>EDUCATION</td>\n",
       "      <td>degree in biology</td>\n",
       "      <td>False</td>\n",
       "      <td>NaN</td>\n",
       "      <td>False</td>\n",
       "      <td>NaN</td>\n",
       "      <td>True</td>\n",
       "      <td>False</td>\n",
       "      <td>False</td>\n",
       "      <td>False</td>\n",
       "      <td>False</td>\n",
       "      <td>False</td>\n",
       "    </tr>\n",
       "    <tr>\n",
       "      <th>0000-0001-5014-5898</th>\n",
       "      <td>2003.0</td>\n",
       "      <td>AT</td>\n",
       "      <td>2004.0</td>\n",
       "      <td>NaN</td>\n",
       "      <td>EDUCATION</td>\n",
       "      <td>master of advanced studies in journalism and m...</td>\n",
       "      <td>False</td>\n",
       "      <td>NaN</td>\n",
       "      <td>False</td>\n",
       "      <td>NaN</td>\n",
       "      <td>True</td>\n",
       "      <td>False</td>\n",
       "      <td>False</td>\n",
       "      <td>False</td>\n",
       "      <td>False</td>\n",
       "      <td>False</td>\n",
       "    </tr>\n",
       "    <tr>\n",
       "      <th>0000-0001-5016-4810</th>\n",
       "      <td>2014.0</td>\n",
       "      <td>GB</td>\n",
       "      <td>2016.0</td>\n",
       "      <td>6123</td>\n",
       "      <td>EMPLOYMENT</td>\n",
       "      <td>clinical assistant professor in equine interna...</td>\n",
       "      <td>False</td>\n",
       "      <td>NaN</td>\n",
       "      <td>False</td>\n",
       "      <td>NaN</td>\n",
       "      <td>True</td>\n",
       "      <td>False</td>\n",
       "      <td>False</td>\n",
       "      <td>False</td>\n",
       "      <td>False</td>\n",
       "      <td>False</td>\n",
       "    </tr>\n",
       "    <tr>\n",
       "      <th>0000-0001-5016-5637</th>\n",
       "      <td>2004.0</td>\n",
       "      <td>IR</td>\n",
       "      <td>2009.0</td>\n",
       "      <td>271368</td>\n",
       "      <td>EDUCATION</td>\n",
       "      <td>biology of plant (botany science)</td>\n",
       "      <td>True</td>\n",
       "      <td>2016.0</td>\n",
       "      <td>False</td>\n",
       "      <td>12.0</td>\n",
       "      <td>True</td>\n",
       "      <td>False</td>\n",
       "      <td>False</td>\n",
       "      <td>False</td>\n",
       "      <td>False</td>\n",
       "      <td>False</td>\n",
       "    </tr>\n",
       "    <tr>\n",
       "      <th>0000-0001-5018-5443</th>\n",
       "      <td>2009.0</td>\n",
       "      <td>ES</td>\n",
       "      <td>2016.0</td>\n",
       "      <td>16752</td>\n",
       "      <td>EDUCATION</td>\n",
       "      <td>licenciado en biologì_a</td>\n",
       "      <td>False</td>\n",
       "      <td>NaN</td>\n",
       "      <td>False</td>\n",
       "      <td>NaN</td>\n",
       "      <td>True</td>\n",
       "      <td>False</td>\n",
       "      <td>False</td>\n",
       "      <td>False</td>\n",
       "      <td>False</td>\n",
       "      <td>False</td>\n",
       "    </tr>\n",
       "    <tr>\n",
       "      <th>0000-0001-5020-6363</th>\n",
       "      <td>2008.0</td>\n",
       "      <td>PK</td>\n",
       "      <td>2012.0</td>\n",
       "      <td>66920</td>\n",
       "      <td>EDUCATION</td>\n",
       "      <td>bs(honrs) applied microbiology</td>\n",
       "      <td>False</td>\n",
       "      <td>NaN</td>\n",
       "      <td>False</td>\n",
       "      <td>NaN</td>\n",
       "      <td>True</td>\n",
       "      <td>False</td>\n",
       "      <td>False</td>\n",
       "      <td>False</td>\n",
       "      <td>False</td>\n",
       "      <td>False</td>\n",
       "    </tr>\n",
       "    <tr>\n",
       "      <th>0000-0001-5020-7171</th>\n",
       "      <td>2010.0</td>\n",
       "      <td>GB</td>\n",
       "      <td>2013.0</td>\n",
       "      <td>2152</td>\n",
       "      <td>EDUCATION</td>\n",
       "      <td>ba(hons) natural sciences</td>\n",
       "      <td>False</td>\n",
       "      <td>NaN</td>\n",
       "      <td>False</td>\n",
       "      <td>NaN</td>\n",
       "      <td>True</td>\n",
       "      <td>False</td>\n",
       "      <td>False</td>\n",
       "      <td>False</td>\n",
       "      <td>False</td>\n",
       "      <td>False</td>\n",
       "    </tr>\n",
       "    <tr>\n",
       "      <th>0000-0001-5022-2339</th>\n",
       "      <td>1989.0</td>\n",
       "      <td>MX</td>\n",
       "      <td>1994.0</td>\n",
       "      <td>NaN</td>\n",
       "      <td>EDUCATION</td>\n",
       "      <td>licenciado en biologì_a</td>\n",
       "      <td>True</td>\n",
       "      <td>2005.0</td>\n",
       "      <td>False</td>\n",
       "      <td>16.0</td>\n",
       "      <td>True</td>\n",
       "      <td>False</td>\n",
       "      <td>False</td>\n",
       "      <td>False</td>\n",
       "      <td>False</td>\n",
       "      <td>False</td>\n",
       "    </tr>\n",
       "    <tr>\n",
       "      <th>0000-0001-5023-0195</th>\n",
       "      <td>1986.0</td>\n",
       "      <td>ES</td>\n",
       "      <td>1999.0</td>\n",
       "      <td>16741</td>\n",
       "      <td>EDUCATION</td>\n",
       "      <td>especialista en medicina fì_sica y rehabilitaa...</td>\n",
       "      <td>True</td>\n",
       "      <td>2016.0</td>\n",
       "      <td>False</td>\n",
       "      <td>30.0</td>\n",
       "      <td>True</td>\n",
       "      <td>False</td>\n",
       "      <td>False</td>\n",
       "      <td>False</td>\n",
       "      <td>False</td>\n",
       "      <td>False</td>\n",
       "    </tr>\n",
       "    <tr>\n",
       "      <th>...</th>\n",
       "      <td>...</td>\n",
       "      <td>...</td>\n",
       "      <td>...</td>\n",
       "      <td>...</td>\n",
       "      <td>...</td>\n",
       "      <td>...</td>\n",
       "      <td>...</td>\n",
       "      <td>...</td>\n",
       "      <td>...</td>\n",
       "      <td>...</td>\n",
       "      <td>...</td>\n",
       "      <td>...</td>\n",
       "      <td>...</td>\n",
       "      <td>...</td>\n",
       "      <td>...</td>\n",
       "      <td>...</td>\n",
       "    </tr>\n",
       "    <tr>\n",
       "      <th>0000-0002-5511-4668</th>\n",
       "      <td>2009.0</td>\n",
       "      <td>DK</td>\n",
       "      <td>2016.0</td>\n",
       "      <td>http://dx.doi.org/10.13039/501100001734</td>\n",
       "      <td>EDUCATION</td>\n",
       "      <td>medical student</td>\n",
       "      <td>False</td>\n",
       "      <td>NaN</td>\n",
       "      <td>False</td>\n",
       "      <td>NaN</td>\n",
       "      <td>True</td>\n",
       "      <td>False</td>\n",
       "      <td>False</td>\n",
       "      <td>False</td>\n",
       "      <td>False</td>\n",
       "      <td>False</td>\n",
       "    </tr>\n",
       "    <tr>\n",
       "      <th>0000-0002-5512-1745</th>\n",
       "      <td>2006.0</td>\n",
       "      <td>GB</td>\n",
       "      <td>2007.0</td>\n",
       "      <td>4488</td>\n",
       "      <td>EDUCATION</td>\n",
       "      <td>msc medical statistics</td>\n",
       "      <td>False</td>\n",
       "      <td>NaN</td>\n",
       "      <td>False</td>\n",
       "      <td>NaN</td>\n",
       "      <td>True</td>\n",
       "      <td>False</td>\n",
       "      <td>False</td>\n",
       "      <td>False</td>\n",
       "      <td>False</td>\n",
       "      <td>False</td>\n",
       "    </tr>\n",
       "    <tr>\n",
       "      <th>0000-0002-5513-970X</th>\n",
       "      <td>2000.0</td>\n",
       "      <td>BY</td>\n",
       "      <td>2005.0</td>\n",
       "      <td>NaN</td>\n",
       "      <td>EDUCATION</td>\n",
       "      <td>phd, biochemistry / determining of erbb2, gapd...</td>\n",
       "      <td>True</td>\n",
       "      <td>2005.0</td>\n",
       "      <td>False</td>\n",
       "      <td>5.0</td>\n",
       "      <td>True</td>\n",
       "      <td>True</td>\n",
       "      <td>False</td>\n",
       "      <td>True</td>\n",
       "      <td>False</td>\n",
       "      <td>False</td>\n",
       "    </tr>\n",
       "    <tr>\n",
       "      <th>0000-0002-5514-2511</th>\n",
       "      <td>1996.0</td>\n",
       "      <td>IN</td>\n",
       "      <td>1999.0</td>\n",
       "      <td>NaN</td>\n",
       "      <td>EDUCATION</td>\n",
       "      <td>b.sc (microbiology)</td>\n",
       "      <td>True</td>\n",
       "      <td>2006.0</td>\n",
       "      <td>False</td>\n",
       "      <td>10.0</td>\n",
       "      <td>True</td>\n",
       "      <td>False</td>\n",
       "      <td>False</td>\n",
       "      <td>False</td>\n",
       "      <td>False</td>\n",
       "      <td>False</td>\n",
       "    </tr>\n",
       "    <tr>\n",
       "      <th>0000-0002-5514-4189</th>\n",
       "      <td>2001.0</td>\n",
       "      <td>KR</td>\n",
       "      <td>2007.0</td>\n",
       "      <td>NaN</td>\n",
       "      <td>EDUCATION</td>\n",
       "      <td>medical doctor</td>\n",
       "      <td>True</td>\n",
       "      <td>2010.0</td>\n",
       "      <td>False</td>\n",
       "      <td>9.0</td>\n",
       "      <td>True</td>\n",
       "      <td>False</td>\n",
       "      <td>False</td>\n",
       "      <td>False</td>\n",
       "      <td>False</td>\n",
       "      <td>False</td>\n",
       "    </tr>\n",
       "    <tr>\n",
       "      <th>0000-0002-5515-0626</th>\n",
       "      <td>2001.0</td>\n",
       "      <td>ES</td>\n",
       "      <td>2007.0</td>\n",
       "      <td>16734</td>\n",
       "      <td>EDUCATION</td>\n",
       "      <td>graduate in biological sciences</td>\n",
       "      <td>True</td>\n",
       "      <td>2014.0</td>\n",
       "      <td>False</td>\n",
       "      <td>13.0</td>\n",
       "      <td>True</td>\n",
       "      <td>False</td>\n",
       "      <td>False</td>\n",
       "      <td>False</td>\n",
       "      <td>False</td>\n",
       "      <td>False</td>\n",
       "    </tr>\n",
       "    <tr>\n",
       "      <th>0000-0002-5515-0968</th>\n",
       "      <td>2006.0</td>\n",
       "      <td>DE</td>\n",
       "      <td>2011.0</td>\n",
       "      <td>38885</td>\n",
       "      <td>EDUCATION</td>\n",
       "      <td>dipl.ing (fh) biotechnologie</td>\n",
       "      <td>True</td>\n",
       "      <td>2014.0</td>\n",
       "      <td>False</td>\n",
       "      <td>8.0</td>\n",
       "      <td>True</td>\n",
       "      <td>False</td>\n",
       "      <td>False</td>\n",
       "      <td>False</td>\n",
       "      <td>False</td>\n",
       "      <td>False</td>\n",
       "    </tr>\n",
       "    <tr>\n",
       "      <th>0000-0002-5515-3448</th>\n",
       "      <td>2002.0</td>\n",
       "      <td>IT</td>\n",
       "      <td>2004.0</td>\n",
       "      <td>9313</td>\n",
       "      <td>EDUCATION</td>\n",
       "      <td>laurea in tecniche di radiologia medica, per i...</td>\n",
       "      <td>False</td>\n",
       "      <td>NaN</td>\n",
       "      <td>False</td>\n",
       "      <td>NaN</td>\n",
       "      <td>True</td>\n",
       "      <td>False</td>\n",
       "      <td>False</td>\n",
       "      <td>False</td>\n",
       "      <td>False</td>\n",
       "      <td>False</td>\n",
       "    </tr>\n",
       "    <tr>\n",
       "      <th>0000-0002-5515-4889</th>\n",
       "      <td>1966.0</td>\n",
       "      <td>VE</td>\n",
       "      <td>1972.0</td>\n",
       "      <td>89353</td>\n",
       "      <td>EDUCATION</td>\n",
       "      <td>medical doctor</td>\n",
       "      <td>False</td>\n",
       "      <td>NaN</td>\n",
       "      <td>False</td>\n",
       "      <td>NaN</td>\n",
       "      <td>True</td>\n",
       "      <td>False</td>\n",
       "      <td>False</td>\n",
       "      <td>False</td>\n",
       "      <td>False</td>\n",
       "      <td>False</td>\n",
       "    </tr>\n",
       "    <tr>\n",
       "      <th>0000-0002-5516-1480</th>\n",
       "      <td>2009.0</td>\n",
       "      <td>GB</td>\n",
       "      <td>2013.0</td>\n",
       "      <td>1722</td>\n",
       "      <td>EDUCATION</td>\n",
       "      <td>bsc. (hons) biomedical science (first class)</td>\n",
       "      <td>True</td>\n",
       "      <td>2016.0</td>\n",
       "      <td>False</td>\n",
       "      <td>7.0</td>\n",
       "      <td>True</td>\n",
       "      <td>False</td>\n",
       "      <td>False</td>\n",
       "      <td>False</td>\n",
       "      <td>False</td>\n",
       "      <td>False</td>\n",
       "    </tr>\n",
       "    <tr>\n",
       "      <th>0000-0002-5516-7962</th>\n",
       "      <td>1990.0</td>\n",
       "      <td>BE</td>\n",
       "      <td>1992.0</td>\n",
       "      <td>54496</td>\n",
       "      <td>EDUCATION</td>\n",
       "      <td>bachelor in chemistry &amp; biology</td>\n",
       "      <td>True</td>\n",
       "      <td>1999.0</td>\n",
       "      <td>False</td>\n",
       "      <td>9.0</td>\n",
       "      <td>True</td>\n",
       "      <td>True</td>\n",
       "      <td>False</td>\n",
       "      <td>True</td>\n",
       "      <td>False</td>\n",
       "      <td>False</td>\n",
       "    </tr>\n",
       "    <tr>\n",
       "      <th>0000-0002-5517-0934</th>\n",
       "      <td>2005.0</td>\n",
       "      <td>TZ</td>\n",
       "      <td>2008.0</td>\n",
       "      <td>313074</td>\n",
       "      <td>EDUCATION</td>\n",
       "      <td>bsc. agricultural economics and agribusiness</td>\n",
       "      <td>False</td>\n",
       "      <td>NaN</td>\n",
       "      <td>False</td>\n",
       "      <td>NaN</td>\n",
       "      <td>True</td>\n",
       "      <td>False</td>\n",
       "      <td>True</td>\n",
       "      <td>False</td>\n",
       "      <td>False</td>\n",
       "      <td>False</td>\n",
       "    </tr>\n",
       "    <tr>\n",
       "      <th>0000-0002-5517-4732</th>\n",
       "      <td>2014.0</td>\n",
       "      <td>BR</td>\n",
       "      <td>2016.0</td>\n",
       "      <td>245146</td>\n",
       "      <td>EDUCATION</td>\n",
       "      <td>mestrado em sanidade, seguranì¤a alimentar e a...</td>\n",
       "      <td>False</td>\n",
       "      <td>NaN</td>\n",
       "      <td>False</td>\n",
       "      <td>NaN</td>\n",
       "      <td>True</td>\n",
       "      <td>False</td>\n",
       "      <td>False</td>\n",
       "      <td>False</td>\n",
       "      <td>False</td>\n",
       "      <td>False</td>\n",
       "    </tr>\n",
       "    <tr>\n",
       "      <th>0000-0002-5517-7327</th>\n",
       "      <td>1999.0</td>\n",
       "      <td>ES</td>\n",
       "      <td>2008.0</td>\n",
       "      <td>NaN</td>\n",
       "      <td>EDUCATION</td>\n",
       "      <td>b.sc. in medicine</td>\n",
       "      <td>True</td>\n",
       "      <td>2008.0</td>\n",
       "      <td>False</td>\n",
       "      <td>9.0</td>\n",
       "      <td>True</td>\n",
       "      <td>False</td>\n",
       "      <td>False</td>\n",
       "      <td>False</td>\n",
       "      <td>False</td>\n",
       "      <td>False</td>\n",
       "    </tr>\n",
       "    <tr>\n",
       "      <th>0000-0002-5517-7327</th>\n",
       "      <td>1999.0</td>\n",
       "      <td>ES</td>\n",
       "      <td>2004.0</td>\n",
       "      <td>NaN</td>\n",
       "      <td>EDUCATION</td>\n",
       "      <td>b.sc. in biochemistry</td>\n",
       "      <td>True</td>\n",
       "      <td>2008.0</td>\n",
       "      <td>False</td>\n",
       "      <td>9.0</td>\n",
       "      <td>True</td>\n",
       "      <td>True</td>\n",
       "      <td>False</td>\n",
       "      <td>True</td>\n",
       "      <td>False</td>\n",
       "      <td>False</td>\n",
       "    </tr>\n",
       "    <tr>\n",
       "      <th>0000-0002-5518-5933</th>\n",
       "      <td>2004.0</td>\n",
       "      <td>CO</td>\n",
       "      <td>2010.0</td>\n",
       "      <td>27991</td>\n",
       "      <td>EDUCATION</td>\n",
       "      <td>b.sc. biology</td>\n",
       "      <td>True</td>\n",
       "      <td>2016.0</td>\n",
       "      <td>True</td>\n",
       "      <td>12.0</td>\n",
       "      <td>True</td>\n",
       "      <td>False</td>\n",
       "      <td>False</td>\n",
       "      <td>False</td>\n",
       "      <td>False</td>\n",
       "      <td>False</td>\n",
       "    </tr>\n",
       "    <tr>\n",
       "      <th>0000-0002-5518-9790</th>\n",
       "      <td>1999.0</td>\n",
       "      <td>PT</td>\n",
       "      <td>2004.0</td>\n",
       "      <td>NaN</td>\n",
       "      <td>EDUCATION</td>\n",
       "      <td>biochemistry bcs</td>\n",
       "      <td>True</td>\n",
       "      <td>2011.0</td>\n",
       "      <td>False</td>\n",
       "      <td>12.0</td>\n",
       "      <td>True</td>\n",
       "      <td>True</td>\n",
       "      <td>False</td>\n",
       "      <td>True</td>\n",
       "      <td>False</td>\n",
       "      <td>False</td>\n",
       "    </tr>\n",
       "    <tr>\n",
       "      <th>0000-0002-5519-627X</th>\n",
       "      <td>2005.0</td>\n",
       "      <td>GB</td>\n",
       "      <td>2009.0</td>\n",
       "      <td>3124</td>\n",
       "      <td>EDUCATION</td>\n",
       "      <td>bsc (honours) reproductive biology</td>\n",
       "      <td>False</td>\n",
       "      <td>NaN</td>\n",
       "      <td>False</td>\n",
       "      <td>NaN</td>\n",
       "      <td>True</td>\n",
       "      <td>False</td>\n",
       "      <td>False</td>\n",
       "      <td>False</td>\n",
       "      <td>False</td>\n",
       "      <td>False</td>\n",
       "    </tr>\n",
       "    <tr>\n",
       "      <th>0000-0002-5522-4760</th>\n",
       "      <td>1972.0</td>\n",
       "      <td>FI</td>\n",
       "      <td>1978.0</td>\n",
       "      <td>NaN</td>\n",
       "      <td>EDUCATION</td>\n",
       "      <td>licentiate of medicine</td>\n",
       "      <td>False</td>\n",
       "      <td>NaN</td>\n",
       "      <td>False</td>\n",
       "      <td>NaN</td>\n",
       "      <td>True</td>\n",
       "      <td>False</td>\n",
       "      <td>False</td>\n",
       "      <td>False</td>\n",
       "      <td>False</td>\n",
       "      <td>False</td>\n",
       "    </tr>\n",
       "    <tr>\n",
       "      <th>0000-0002-5523-3544</th>\n",
       "      <td>2014.0</td>\n",
       "      <td>ZA</td>\n",
       "      <td>2016.0</td>\n",
       "      <td>121470</td>\n",
       "      <td>EDUCATION</td>\n",
       "      <td>mb,chb (bachelor of medicine, bachelor of surg...</td>\n",
       "      <td>False</td>\n",
       "      <td>NaN</td>\n",
       "      <td>False</td>\n",
       "      <td>NaN</td>\n",
       "      <td>True</td>\n",
       "      <td>False</td>\n",
       "      <td>False</td>\n",
       "      <td>False</td>\n",
       "      <td>False</td>\n",
       "      <td>False</td>\n",
       "    </tr>\n",
       "    <tr>\n",
       "      <th>0000-0002-5523-7879</th>\n",
       "      <td>2008.0</td>\n",
       "      <td>CO</td>\n",
       "      <td>2014.0</td>\n",
       "      <td>NaN</td>\n",
       "      <td>EDUCATION</td>\n",
       "      <td>medical doctor</td>\n",
       "      <td>False</td>\n",
       "      <td>NaN</td>\n",
       "      <td>False</td>\n",
       "      <td>NaN</td>\n",
       "      <td>True</td>\n",
       "      <td>False</td>\n",
       "      <td>False</td>\n",
       "      <td>False</td>\n",
       "      <td>False</td>\n",
       "      <td>False</td>\n",
       "    </tr>\n",
       "    <tr>\n",
       "      <th>0000-0002-5524-0349</th>\n",
       "      <td>2006.0</td>\n",
       "      <td>PE</td>\n",
       "      <td>2010.0</td>\n",
       "      <td>125813</td>\n",
       "      <td>EDUCATION</td>\n",
       "      <td>biologa acuicultora</td>\n",
       "      <td>False</td>\n",
       "      <td>NaN</td>\n",
       "      <td>False</td>\n",
       "      <td>NaN</td>\n",
       "      <td>True</td>\n",
       "      <td>False</td>\n",
       "      <td>False</td>\n",
       "      <td>False</td>\n",
       "      <td>False</td>\n",
       "      <td>False</td>\n",
       "    </tr>\n",
       "    <tr>\n",
       "      <th>0000-0002-5524-1958</th>\n",
       "      <td>2002.0</td>\n",
       "      <td>CU</td>\n",
       "      <td>2007.0</td>\n",
       "      <td>113031</td>\n",
       "      <td>EDUCATION</td>\n",
       "      <td>b.sc. in biochemistry</td>\n",
       "      <td>True</td>\n",
       "      <td>2013.0</td>\n",
       "      <td>False</td>\n",
       "      <td>11.0</td>\n",
       "      <td>True</td>\n",
       "      <td>True</td>\n",
       "      <td>False</td>\n",
       "      <td>True</td>\n",
       "      <td>False</td>\n",
       "      <td>False</td>\n",
       "    </tr>\n",
       "    <tr>\n",
       "      <th>0000-0002-5524-8367</th>\n",
       "      <td>1971.0</td>\n",
       "      <td>VE</td>\n",
       "      <td>1977.0</td>\n",
       "      <td>91048</td>\n",
       "      <td>EDUCATION</td>\n",
       "      <td>licenciado en biologì_a, menciì_n acuicultura ...</td>\n",
       "      <td>False</td>\n",
       "      <td>NaN</td>\n",
       "      <td>False</td>\n",
       "      <td>NaN</td>\n",
       "      <td>True</td>\n",
       "      <td>False</td>\n",
       "      <td>False</td>\n",
       "      <td>False</td>\n",
       "      <td>False</td>\n",
       "      <td>False</td>\n",
       "    </tr>\n",
       "    <tr>\n",
       "      <th>0000-0002-5525-9955</th>\n",
       "      <td>1962.0</td>\n",
       "      <td>AU</td>\n",
       "      <td>1965.0</td>\n",
       "      <td>2541</td>\n",
       "      <td>EDUCATION</td>\n",
       "      <td>bachelor of medical science</td>\n",
       "      <td>True</td>\n",
       "      <td>1970.0</td>\n",
       "      <td>False</td>\n",
       "      <td>8.0</td>\n",
       "      <td>True</td>\n",
       "      <td>False</td>\n",
       "      <td>False</td>\n",
       "      <td>False</td>\n",
       "      <td>False</td>\n",
       "      <td>False</td>\n",
       "    </tr>\n",
       "    <tr>\n",
       "      <th>0000-0002-5526-4797</th>\n",
       "      <td>2014.0</td>\n",
       "      <td>BE</td>\n",
       "      <td>2016.0</td>\n",
       "      <td>26656</td>\n",
       "      <td>EDUCATION</td>\n",
       "      <td>phd student of medicine and health sciences</td>\n",
       "      <td>True</td>\n",
       "      <td>2016.0</td>\n",
       "      <td>False</td>\n",
       "      <td>2.0</td>\n",
       "      <td>True</td>\n",
       "      <td>False</td>\n",
       "      <td>False</td>\n",
       "      <td>False</td>\n",
       "      <td>False</td>\n",
       "      <td>False</td>\n",
       "    </tr>\n",
       "    <tr>\n",
       "      <th>0000-0002-5526-6768</th>\n",
       "      <td>1999.0</td>\n",
       "      <td>SE</td>\n",
       "      <td>2005.0</td>\n",
       "      <td>8097</td>\n",
       "      <td>EDUCATION</td>\n",
       "      <td>msc in molecular biotechnology engineering</td>\n",
       "      <td>True</td>\n",
       "      <td>2011.0</td>\n",
       "      <td>False</td>\n",
       "      <td>12.0</td>\n",
       "      <td>True</td>\n",
       "      <td>False</td>\n",
       "      <td>False</td>\n",
       "      <td>True</td>\n",
       "      <td>False</td>\n",
       "      <td>False</td>\n",
       "    </tr>\n",
       "    <tr>\n",
       "      <th>0000-0002-5526-8528</th>\n",
       "      <td>1989.0</td>\n",
       "      <td>BR</td>\n",
       "      <td>1993.0</td>\n",
       "      <td>28108</td>\n",
       "      <td>EDUCATION</td>\n",
       "      <td>medico veterinìário</td>\n",
       "      <td>False</td>\n",
       "      <td>NaN</td>\n",
       "      <td>False</td>\n",
       "      <td>NaN</td>\n",
       "      <td>True</td>\n",
       "      <td>False</td>\n",
       "      <td>False</td>\n",
       "      <td>False</td>\n",
       "      <td>False</td>\n",
       "      <td>False</td>\n",
       "    </tr>\n",
       "    <tr>\n",
       "      <th>0000-0002-5527-3458</th>\n",
       "      <td>1971.0</td>\n",
       "      <td>GB</td>\n",
       "      <td>1974.0</td>\n",
       "      <td>7423</td>\n",
       "      <td>EDUCATION</td>\n",
       "      <td>bsc(hons) physiology &amp; biochemistry</td>\n",
       "      <td>False</td>\n",
       "      <td>NaN</td>\n",
       "      <td>False</td>\n",
       "      <td>NaN</td>\n",
       "      <td>True</td>\n",
       "      <td>True</td>\n",
       "      <td>False</td>\n",
       "      <td>True</td>\n",
       "      <td>False</td>\n",
       "      <td>False</td>\n",
       "    </tr>\n",
       "    <tr>\n",
       "      <th>0000-0002-5527-8304</th>\n",
       "      <td>2012.0</td>\n",
       "      <td>IN</td>\n",
       "      <td>2014.0</td>\n",
       "      <td>124710</td>\n",
       "      <td>EDUCATION</td>\n",
       "      <td>m.sc biotechnology</td>\n",
       "      <td>False</td>\n",
       "      <td>NaN</td>\n",
       "      <td>False</td>\n",
       "      <td>NaN</td>\n",
       "      <td>True</td>\n",
       "      <td>False</td>\n",
       "      <td>False</td>\n",
       "      <td>False</td>\n",
       "      <td>False</td>\n",
       "      <td>False</td>\n",
       "    </tr>\n",
       "  </tbody>\n",
       "</table>\n",
       "<p>17434 rows × 16 columns</p>\n",
       "</div>"
      ],
      "text/plain": [
       "                     earliest_year earliest_country  end_year  \\\n",
       "orcid_id                                                        \n",
       "0000-0001-5002-0227         1990.0               AU    2016.0   \n",
       "0000-0001-5002-2126         2008.0               CN    2012.0   \n",
       "0000-0001-5002-2708         1995.0               GB    2016.0   \n",
       "0000-0001-5003-299X         2006.0               IR    2010.0   \n",
       "0000-0001-5003-6018         1996.0               VE    2007.0   \n",
       "0000-0001-5003-6595         2004.0               BR    2006.0   \n",
       "0000-0001-5004-5459         2006.0               BR    2010.0   \n",
       "0000-0001-5004-7315         2006.0               ES    2011.0   \n",
       "0000-0001-5006-0819         1996.0               DE    2002.0   \n",
       "0000-0001-5006-1192         1986.0               KR    1992.0   \n",
       "0000-0001-5006-9506         1979.0               IT    1984.0   \n",
       "0000-0001-5008-0457         2002.0               PL    2007.0   \n",
       "0000-0001-5008-2575         1992.0               BR    1995.0   \n",
       "0000-0001-5008-7683         2005.0               BR    2008.0   \n",
       "0000-0001-5009-2220         1968.0               IT    1974.0   \n",
       "0000-0001-5009-4779         2007.0               CL    2011.0   \n",
       "0000-0001-5011-5875         2011.0               PK    2016.0   \n",
       "0000-0001-5013-0012         1999.0               KE    2003.0   \n",
       "0000-0001-5013-1680         2002.0               AR    2009.0   \n",
       "0000-0001-5013-6246         1993.0               BR    1998.0   \n",
       "0000-0001-5014-0499         2010.0               ES    2014.0   \n",
       "0000-0001-5014-430X         1992.0               IT    1997.0   \n",
       "0000-0001-5014-5898         2003.0               AT    2004.0   \n",
       "0000-0001-5016-4810         2014.0               GB    2016.0   \n",
       "0000-0001-5016-5637         2004.0               IR    2009.0   \n",
       "0000-0001-5018-5443         2009.0               ES    2016.0   \n",
       "0000-0001-5020-6363         2008.0               PK    2012.0   \n",
       "0000-0001-5020-7171         2010.0               GB    2013.0   \n",
       "0000-0001-5022-2339         1989.0               MX    1994.0   \n",
       "0000-0001-5023-0195         1986.0               ES    1999.0   \n",
       "...                            ...              ...       ...   \n",
       "0000-0002-5511-4668         2009.0               DK    2016.0   \n",
       "0000-0002-5512-1745         2006.0               GB    2007.0   \n",
       "0000-0002-5513-970X         2000.0               BY    2005.0   \n",
       "0000-0002-5514-2511         1996.0               IN    1999.0   \n",
       "0000-0002-5514-4189         2001.0               KR    2007.0   \n",
       "0000-0002-5515-0626         2001.0               ES    2007.0   \n",
       "0000-0002-5515-0968         2006.0               DE    2011.0   \n",
       "0000-0002-5515-3448         2002.0               IT    2004.0   \n",
       "0000-0002-5515-4889         1966.0               VE    1972.0   \n",
       "0000-0002-5516-1480         2009.0               GB    2013.0   \n",
       "0000-0002-5516-7962         1990.0               BE    1992.0   \n",
       "0000-0002-5517-0934         2005.0               TZ    2008.0   \n",
       "0000-0002-5517-4732         2014.0               BR    2016.0   \n",
       "0000-0002-5517-7327         1999.0               ES    2008.0   \n",
       "0000-0002-5517-7327         1999.0               ES    2004.0   \n",
       "0000-0002-5518-5933         2004.0               CO    2010.0   \n",
       "0000-0002-5518-9790         1999.0               PT    2004.0   \n",
       "0000-0002-5519-627X         2005.0               GB    2009.0   \n",
       "0000-0002-5522-4760         1972.0               FI    1978.0   \n",
       "0000-0002-5523-3544         2014.0               ZA    2016.0   \n",
       "0000-0002-5523-7879         2008.0               CO    2014.0   \n",
       "0000-0002-5524-0349         2006.0               PE    2010.0   \n",
       "0000-0002-5524-1958         2002.0               CU    2007.0   \n",
       "0000-0002-5524-8367         1971.0               VE    1977.0   \n",
       "0000-0002-5525-9955         1962.0               AU    1965.0   \n",
       "0000-0002-5526-4797         2014.0               BE    2016.0   \n",
       "0000-0002-5526-6768         1999.0               SE    2005.0   \n",
       "0000-0002-5526-8528         1989.0               BR    1993.0   \n",
       "0000-0002-5527-3458         1971.0               GB    1974.0   \n",
       "0000-0002-5527-8304         2012.0               IN    2014.0   \n",
       "\n",
       "                                                 Ringgold_id affiliation_type  \\\n",
       "orcid_id                                                                        \n",
       "0000-0001-5002-0227                                     5673       EMPLOYMENT   \n",
       "0000-0001-5002-2126                                    47890        EDUCATION   \n",
       "0000-0001-5002-2708                                      NaN       EMPLOYMENT   \n",
       "0000-0001-5003-299X                                    48437        EDUCATION   \n",
       "0000-0001-5003-6018                                   227274        EDUCATION   \n",
       "0000-0001-5003-6595                                    37903        EDUCATION   \n",
       "0000-0001-5004-5459                                    67825        EDUCATION   \n",
       "0000-0001-5004-7315                                    16754        EDUCATION   \n",
       "0000-0001-5006-0819                                     9379        EDUCATION   \n",
       "0000-0001-5006-1192                                    89481        EDUCATION   \n",
       "0000-0001-5006-9506                                   161141        EDUCATION   \n",
       "0000-0001-5008-0457  http://dx.doi.org/10.13039/501100005643        EDUCATION   \n",
       "0000-0001-5008-2575                                   133647        EDUCATION   \n",
       "0000-0001-5008-7683                                   385413        EDUCATION   \n",
       "0000-0001-5009-2220                                    18998        EDUCATION   \n",
       "0000-0001-5009-4779                                      NaN        EDUCATION   \n",
       "0000-0001-5011-5875                                    66909        EDUCATION   \n",
       "0000-0001-5013-0012                                   107854        EDUCATION   \n",
       "0000-0001-5013-1680                                   151280        EDUCATION   \n",
       "0000-0001-5013-6246                                    67782        EDUCATION   \n",
       "0000-0001-5014-0499                                      NaN        EDUCATION   \n",
       "0000-0001-5014-430X                                    18959        EDUCATION   \n",
       "0000-0001-5014-5898                                      NaN        EDUCATION   \n",
       "0000-0001-5016-4810                                     6123       EMPLOYMENT   \n",
       "0000-0001-5016-5637                                   271368        EDUCATION   \n",
       "0000-0001-5018-5443                                    16752        EDUCATION   \n",
       "0000-0001-5020-6363                                    66920        EDUCATION   \n",
       "0000-0001-5020-7171                                     2152        EDUCATION   \n",
       "0000-0001-5022-2339                                      NaN        EDUCATION   \n",
       "0000-0001-5023-0195                                    16741        EDUCATION   \n",
       "...                                                      ...              ...   \n",
       "0000-0002-5511-4668  http://dx.doi.org/10.13039/501100001734        EDUCATION   \n",
       "0000-0002-5512-1745                                     4488        EDUCATION   \n",
       "0000-0002-5513-970X                                      NaN        EDUCATION   \n",
       "0000-0002-5514-2511                                      NaN        EDUCATION   \n",
       "0000-0002-5514-4189                                      NaN        EDUCATION   \n",
       "0000-0002-5515-0626                                    16734        EDUCATION   \n",
       "0000-0002-5515-0968                                    38885        EDUCATION   \n",
       "0000-0002-5515-3448                                     9313        EDUCATION   \n",
       "0000-0002-5515-4889                                    89353        EDUCATION   \n",
       "0000-0002-5516-1480                                     1722        EDUCATION   \n",
       "0000-0002-5516-7962                                    54496        EDUCATION   \n",
       "0000-0002-5517-0934                                   313074        EDUCATION   \n",
       "0000-0002-5517-4732                                   245146        EDUCATION   \n",
       "0000-0002-5517-7327                                      NaN        EDUCATION   \n",
       "0000-0002-5517-7327                                      NaN        EDUCATION   \n",
       "0000-0002-5518-5933                                    27991        EDUCATION   \n",
       "0000-0002-5518-9790                                      NaN        EDUCATION   \n",
       "0000-0002-5519-627X                                     3124        EDUCATION   \n",
       "0000-0002-5522-4760                                      NaN        EDUCATION   \n",
       "0000-0002-5523-3544                                   121470        EDUCATION   \n",
       "0000-0002-5523-7879                                      NaN        EDUCATION   \n",
       "0000-0002-5524-0349                                   125813        EDUCATION   \n",
       "0000-0002-5524-1958                                   113031        EDUCATION   \n",
       "0000-0002-5524-8367                                    91048        EDUCATION   \n",
       "0000-0002-5525-9955                                     2541        EDUCATION   \n",
       "0000-0002-5526-4797                                    26656        EDUCATION   \n",
       "0000-0002-5526-6768                                     8097        EDUCATION   \n",
       "0000-0002-5526-8528                                    28108        EDUCATION   \n",
       "0000-0002-5527-3458                                     7423        EDUCATION   \n",
       "0000-0002-5527-8304                                   124710        EDUCATION   \n",
       "\n",
       "                                                      affiliation_role  \\\n",
       "orcid_id                                                                 \n",
       "0000-0001-5002-0227            professor of agricultural biotechnology   \n",
       "0000-0001-5002-2126                          bachelor in biotechnology   \n",
       "0000-0001-5002-2708               professor of molecular plant biology   \n",
       "0000-0001-5003-299X                      b.sc - biomedical engineering   \n",
       "0000-0001-5003-6018                             licenciada en biologia   \n",
       "0000-0001-5003-6595               master in molecular and cell biology   \n",
       "0000-0001-5004-5459                                          biologist   \n",
       "0000-0001-5004-7315                                       biochemistry   \n",
       "0000-0001-5006-0819                                     diplom biologe   \n",
       "0000-0001-5006-1192                                     medical doctor   \n",
       "0000-0001-5006-9506                                biological sciences   \n",
       "0000-0001-5008-0457  m.sc. in biology majoring in biochemistry (mag...   \n",
       "0000-0001-5008-2575                         farmacì»utico- bioquì_mico   \n",
       "0000-0001-5008-7683                                         biomì©dico   \n",
       "0000-0001-5009-2220                               medicina e chirurgia   \n",
       "0000-0001-5009-4779                           bachelor of biochemistry   \n",
       "0000-0001-5011-5875                    medical laboratory technologist   \n",
       "0000-0001-5013-0012      bsc. environmental and biosystems engineering   \n",
       "0000-0001-5013-1680  profesor de enseì±anza media y superior en cie...   \n",
       "0000-0001-5013-6246                          pharmacy and biochemistry   \n",
       "0000-0001-5014-0499              phd in molecular and cellular biology   \n",
       "0000-0001-5014-430X                                  degree in biology   \n",
       "0000-0001-5014-5898  master of advanced studies in journalism and m...   \n",
       "0000-0001-5016-4810  clinical assistant professor in equine interna...   \n",
       "0000-0001-5016-5637                  biology of plant (botany science)   \n",
       "0000-0001-5018-5443                            licenciado en biologì_a   \n",
       "0000-0001-5020-6363                     bs(honrs) applied microbiology   \n",
       "0000-0001-5020-7171                         ba(hons) natural sciences    \n",
       "0000-0001-5022-2339                            licenciado en biologì_a   \n",
       "0000-0001-5023-0195  especialista en medicina fì_sica y rehabilitaa...   \n",
       "...                                                                ...   \n",
       "0000-0002-5511-4668                                    medical student   \n",
       "0000-0002-5512-1745                             msc medical statistics   \n",
       "0000-0002-5513-970X  phd, biochemistry / determining of erbb2, gapd...   \n",
       "0000-0002-5514-2511                                b.sc (microbiology)   \n",
       "0000-0002-5514-4189                                     medical doctor   \n",
       "0000-0002-5515-0626                    graduate in biological sciences   \n",
       "0000-0002-5515-0968                       dipl.ing (fh) biotechnologie   \n",
       "0000-0002-5515-3448  laurea in tecniche di radiologia medica, per i...   \n",
       "0000-0002-5515-4889                                     medical doctor   \n",
       "0000-0002-5516-1480       bsc. (hons) biomedical science (first class)   \n",
       "0000-0002-5516-7962                    bachelor in chemistry & biology   \n",
       "0000-0002-5517-0934       bsc. agricultural economics and agribusiness   \n",
       "0000-0002-5517-4732  mestrado em sanidade, seguranì¤a alimentar e a...   \n",
       "0000-0002-5517-7327                                  b.sc. in medicine   \n",
       "0000-0002-5517-7327                              b.sc. in biochemistry   \n",
       "0000-0002-5518-5933                                      b.sc. biology   \n",
       "0000-0002-5518-9790                                   biochemistry bcs   \n",
       "0000-0002-5519-627X                 bsc (honours) reproductive biology   \n",
       "0000-0002-5522-4760                             licentiate of medicine   \n",
       "0000-0002-5523-3544  mb,chb (bachelor of medicine, bachelor of surg...   \n",
       "0000-0002-5523-7879                                     medical doctor   \n",
       "0000-0002-5524-0349                                biologa acuicultora   \n",
       "0000-0002-5524-1958                              b.sc. in biochemistry   \n",
       "0000-0002-5524-8367  licenciado en biologì_a, menciì_n acuicultura ...   \n",
       "0000-0002-5525-9955                        bachelor of medical science   \n",
       "0000-0002-5526-4797        phd student of medicine and health sciences   \n",
       "0000-0002-5526-6768         msc in molecular biotechnology engineering   \n",
       "0000-0002-5526-8528                                medico veterinìário   \n",
       "0000-0002-5527-3458                bsc(hons) physiology & biochemistry   \n",
       "0000-0002-5527-8304                                 m.sc biotechnology   \n",
       "\n",
       "                     has_phd  phd_year  US_Migrant  phd_age life_science  \\\n",
       "orcid_id                                                                   \n",
       "0000-0001-5002-0227    False       NaN       False      NaN         True   \n",
       "0000-0001-5002-2126    False       NaN       False      NaN         True   \n",
       "0000-0001-5002-2708    False       NaN       False      NaN         True   \n",
       "0000-0001-5003-299X    False       NaN       False      NaN         True   \n",
       "0000-0001-5003-6018    False       NaN       False      NaN         True   \n",
       "0000-0001-5003-6595    False       NaN       False      NaN         True   \n",
       "0000-0001-5004-5459    False       NaN       False      NaN         True   \n",
       "0000-0001-5004-7315    False       NaN       False      NaN         True   \n",
       "0000-0001-5006-0819     True    2006.0       False     10.0         True   \n",
       "0000-0001-5006-1192    False       NaN       False      NaN         True   \n",
       "0000-0001-5006-9506     True    1993.0       False     14.0         True   \n",
       "0000-0001-5008-0457     True    2012.0       False     10.0         True   \n",
       "0000-0001-5008-2575    False       NaN       False      NaN         True   \n",
       "0000-0001-5008-7683    False       NaN       False      NaN         True   \n",
       "0000-0001-5009-2220    False       NaN       False      NaN         True   \n",
       "0000-0001-5009-4779     True    2016.0       False      9.0         True   \n",
       "0000-0001-5011-5875    False       NaN       False      NaN         True   \n",
       "0000-0001-5013-0012     True    2012.0       False     13.0         True   \n",
       "0000-0001-5013-1680     True    2016.0       False     14.0         True   \n",
       "0000-0001-5013-6246    False       NaN       False      NaN         True   \n",
       "0000-0001-5014-0499     True    2014.0       False      4.0         True   \n",
       "0000-0001-5014-430X    False       NaN       False      NaN         True   \n",
       "0000-0001-5014-5898    False       NaN       False      NaN         True   \n",
       "0000-0001-5016-4810    False       NaN       False      NaN         True   \n",
       "0000-0001-5016-5637     True    2016.0       False     12.0         True   \n",
       "0000-0001-5018-5443    False       NaN       False      NaN         True   \n",
       "0000-0001-5020-6363    False       NaN       False      NaN         True   \n",
       "0000-0001-5020-7171    False       NaN       False      NaN         True   \n",
       "0000-0001-5022-2339     True    2005.0       False     16.0         True   \n",
       "0000-0001-5023-0195     True    2016.0       False     30.0         True   \n",
       "...                      ...       ...         ...      ...          ...   \n",
       "0000-0002-5511-4668    False       NaN       False      NaN         True   \n",
       "0000-0002-5512-1745    False       NaN       False      NaN         True   \n",
       "0000-0002-5513-970X     True    2005.0       False      5.0         True   \n",
       "0000-0002-5514-2511     True    2006.0       False     10.0         True   \n",
       "0000-0002-5514-4189     True    2010.0       False      9.0         True   \n",
       "0000-0002-5515-0626     True    2014.0       False     13.0         True   \n",
       "0000-0002-5515-0968     True    2014.0       False      8.0         True   \n",
       "0000-0002-5515-3448    False       NaN       False      NaN         True   \n",
       "0000-0002-5515-4889    False       NaN       False      NaN         True   \n",
       "0000-0002-5516-1480     True    2016.0       False      7.0         True   \n",
       "0000-0002-5516-7962     True    1999.0       False      9.0         True   \n",
       "0000-0002-5517-0934    False       NaN       False      NaN         True   \n",
       "0000-0002-5517-4732    False       NaN       False      NaN         True   \n",
       "0000-0002-5517-7327     True    2008.0       False      9.0         True   \n",
       "0000-0002-5517-7327     True    2008.0       False      9.0         True   \n",
       "0000-0002-5518-5933     True    2016.0        True     12.0         True   \n",
       "0000-0002-5518-9790     True    2011.0       False     12.0         True   \n",
       "0000-0002-5519-627X    False       NaN       False      NaN         True   \n",
       "0000-0002-5522-4760    False       NaN       False      NaN         True   \n",
       "0000-0002-5523-3544    False       NaN       False      NaN         True   \n",
       "0000-0002-5523-7879    False       NaN       False      NaN         True   \n",
       "0000-0002-5524-0349    False       NaN       False      NaN         True   \n",
       "0000-0002-5524-1958     True    2013.0       False     11.0         True   \n",
       "0000-0002-5524-8367    False       NaN       False      NaN         True   \n",
       "0000-0002-5525-9955     True    1970.0       False      8.0         True   \n",
       "0000-0002-5526-4797     True    2016.0       False      2.0         True   \n",
       "0000-0002-5526-6768     True    2011.0       False     12.0         True   \n",
       "0000-0002-5526-8528    False       NaN       False      NaN         True   \n",
       "0000-0002-5527-3458    False       NaN       False      NaN         True   \n",
       "0000-0002-5527-8304    False       NaN       False      NaN         True   \n",
       "\n",
       "                    physical_science social_science engineering humanities  \\\n",
       "orcid_id                                                                     \n",
       "0000-0001-5002-0227            False          False       False      False   \n",
       "0000-0001-5002-2126            False          False       False      False   \n",
       "0000-0001-5002-2708            False          False       False      False   \n",
       "0000-0001-5003-299X            False          False        True      False   \n",
       "0000-0001-5003-6018            False          False       False      False   \n",
       "0000-0001-5003-6595            False          False       False      False   \n",
       "0000-0001-5004-5459            False          False       False      False   \n",
       "0000-0001-5004-7315             True          False        True      False   \n",
       "0000-0001-5006-0819            False          False       False      False   \n",
       "0000-0001-5006-1192            False          False       False      False   \n",
       "0000-0001-5006-9506            False          False       False      False   \n",
       "0000-0001-5008-0457             True          False        True      False   \n",
       "0000-0001-5008-2575            False          False       False      False   \n",
       "0000-0001-5008-7683            False          False       False      False   \n",
       "0000-0001-5009-2220            False          False       False      False   \n",
       "0000-0001-5009-4779             True          False        True      False   \n",
       "0000-0001-5011-5875            False          False       False      False   \n",
       "0000-0001-5013-0012            False          False        True      False   \n",
       "0000-0001-5013-1680            False          False       False      False   \n",
       "0000-0001-5013-6246             True          False        True      False   \n",
       "0000-0001-5014-0499            False          False       False      False   \n",
       "0000-0001-5014-430X            False          False       False      False   \n",
       "0000-0001-5014-5898            False          False       False      False   \n",
       "0000-0001-5016-4810            False          False       False      False   \n",
       "0000-0001-5016-5637            False          False       False      False   \n",
       "0000-0001-5018-5443            False          False       False      False   \n",
       "0000-0001-5020-6363            False          False       False      False   \n",
       "0000-0001-5020-7171            False          False       False      False   \n",
       "0000-0001-5022-2339            False          False       False      False   \n",
       "0000-0001-5023-0195            False          False       False      False   \n",
       "...                              ...            ...         ...        ...   \n",
       "0000-0002-5511-4668            False          False       False      False   \n",
       "0000-0002-5512-1745            False          False       False      False   \n",
       "0000-0002-5513-970X             True          False        True      False   \n",
       "0000-0002-5514-2511            False          False       False      False   \n",
       "0000-0002-5514-4189            False          False       False      False   \n",
       "0000-0002-5515-0626            False          False       False      False   \n",
       "0000-0002-5515-0968            False          False       False      False   \n",
       "0000-0002-5515-3448            False          False       False      False   \n",
       "0000-0002-5515-4889            False          False       False      False   \n",
       "0000-0002-5516-1480            False          False       False      False   \n",
       "0000-0002-5516-7962             True          False        True      False   \n",
       "0000-0002-5517-0934            False           True       False      False   \n",
       "0000-0002-5517-4732            False          False       False      False   \n",
       "0000-0002-5517-7327            False          False       False      False   \n",
       "0000-0002-5517-7327             True          False        True      False   \n",
       "0000-0002-5518-5933            False          False       False      False   \n",
       "0000-0002-5518-9790             True          False        True      False   \n",
       "0000-0002-5519-627X            False          False       False      False   \n",
       "0000-0002-5522-4760            False          False       False      False   \n",
       "0000-0002-5523-3544            False          False       False      False   \n",
       "0000-0002-5523-7879            False          False       False      False   \n",
       "0000-0002-5524-0349            False          False       False      False   \n",
       "0000-0002-5524-1958             True          False        True      False   \n",
       "0000-0002-5524-8367            False          False       False      False   \n",
       "0000-0002-5525-9955            False          False       False      False   \n",
       "0000-0002-5526-4797            False          False       False      False   \n",
       "0000-0002-5526-6768            False          False        True      False   \n",
       "0000-0002-5526-8528            False          False       False      False   \n",
       "0000-0002-5527-3458             True          False        True      False   \n",
       "0000-0002-5527-8304            False          False       False      False   \n",
       "\n",
       "                    education  \n",
       "orcid_id                       \n",
       "0000-0001-5002-0227     False  \n",
       "0000-0001-5002-2126     False  \n",
       "0000-0001-5002-2708     False  \n",
       "0000-0001-5003-299X     False  \n",
       "0000-0001-5003-6018     False  \n",
       "0000-0001-5003-6595     False  \n",
       "0000-0001-5004-5459     False  \n",
       "0000-0001-5004-7315     False  \n",
       "0000-0001-5006-0819     False  \n",
       "0000-0001-5006-1192     False  \n",
       "0000-0001-5006-9506     False  \n",
       "0000-0001-5008-0457     False  \n",
       "0000-0001-5008-2575     False  \n",
       "0000-0001-5008-7683     False  \n",
       "0000-0001-5009-2220     False  \n",
       "0000-0001-5009-4779     False  \n",
       "0000-0001-5011-5875     False  \n",
       "0000-0001-5013-0012     False  \n",
       "0000-0001-5013-1680     False  \n",
       "0000-0001-5013-6246     False  \n",
       "0000-0001-5014-0499     False  \n",
       "0000-0001-5014-430X     False  \n",
       "0000-0001-5014-5898     False  \n",
       "0000-0001-5016-4810     False  \n",
       "0000-0001-5016-5637     False  \n",
       "0000-0001-5018-5443     False  \n",
       "0000-0001-5020-6363     False  \n",
       "0000-0001-5020-7171     False  \n",
       "0000-0001-5022-2339     False  \n",
       "0000-0001-5023-0195     False  \n",
       "...                       ...  \n",
       "0000-0002-5511-4668     False  \n",
       "0000-0002-5512-1745     False  \n",
       "0000-0002-5513-970X     False  \n",
       "0000-0002-5514-2511     False  \n",
       "0000-0002-5514-4189     False  \n",
       "0000-0002-5515-0626     False  \n",
       "0000-0002-5515-0968     False  \n",
       "0000-0002-5515-3448     False  \n",
       "0000-0002-5515-4889     False  \n",
       "0000-0002-5516-1480     False  \n",
       "0000-0002-5516-7962     False  \n",
       "0000-0002-5517-0934     False  \n",
       "0000-0002-5517-4732     False  \n",
       "0000-0002-5517-7327     False  \n",
       "0000-0002-5517-7327     False  \n",
       "0000-0002-5518-5933     False  \n",
       "0000-0002-5518-9790     False  \n",
       "0000-0002-5519-627X     False  \n",
       "0000-0002-5522-4760     False  \n",
       "0000-0002-5523-3544     False  \n",
       "0000-0002-5523-7879     False  \n",
       "0000-0002-5524-0349     False  \n",
       "0000-0002-5524-1958     False  \n",
       "0000-0002-5524-8367     False  \n",
       "0000-0002-5525-9955     False  \n",
       "0000-0002-5526-4797     False  \n",
       "0000-0002-5526-6768     False  \n",
       "0000-0002-5526-8528     False  \n",
       "0000-0002-5527-3458     False  \n",
       "0000-0002-5527-8304     False  \n",
       "\n",
       "[17434 rows x 16 columns]"
      ]
     },
     "execution_count": 54,
     "metadata": {},
     "output_type": "execute_result"
    }
   ],
   "source": [
    "f_scientists[f_scientists['life_science']==True]"
   ]
  },
  {
   "cell_type": "code",
   "execution_count": 55,
   "metadata": {
    "collapsed": true
   },
   "outputs": [],
   "source": [
    "def other_field(x):\n",
    "    \n",
    "    life_science, physical_science, social_science, engineering, humanities, education = x\n",
    "    \n",
    "    if life_science == False and physical_science == False and social_science == False and engineering == False and humanities == False and education == False:\n",
    "        return True\n",
    "    else:\n",
    "        return False"
   ]
  },
  {
   "cell_type": "code",
   "execution_count": 56,
   "metadata": {
    "collapsed": true
   },
   "outputs": [],
   "source": [
    "f_scientists['other'] = f_scientists[['life_science', 'physical_science', 'social_science', 'engineering', 'humanities', 'education']].apply(other_field, axis=1)"
   ]
  },
  {
   "cell_type": "markdown",
   "metadata": {},
   "source": [
    "### Review Summary Statistics"
   ]
  },
  {
   "cell_type": "code",
   "execution_count": 57,
   "metadata": {
    "scrolled": true
   },
   "outputs": [
    {
     "data": {
      "text/plain": [
       "False    0.970705\n",
       "True     0.029295\n",
       "Name: US_Migrant, dtype: float64"
      ]
     },
     "execution_count": 57,
     "metadata": {},
     "output_type": "execute_result"
    }
   ],
   "source": [
    "f_scientists['US_Migrant'].value_counts('orcid_id')"
   ]
  },
  {
   "cell_type": "markdown",
   "metadata": {},
   "source": [
    "## Exploratory Data Analysis"
   ]
  },
  {
   "cell_type": "markdown",
   "metadata": {},
   "source": [
    "### Plot feature distributions "
   ]
  },
  {
   "cell_type": "code",
   "execution_count": 58,
   "metadata": {},
   "outputs": [
    {
     "data": {
      "text/plain": [
       "earliest_year       float64\n",
       "earliest_country     object\n",
       "end_year            float64\n",
       "Ringgold_id          object\n",
       "affiliation_type     object\n",
       "affiliation_role     object\n",
       "has_phd                bool\n",
       "phd_year            float64\n",
       "US_Migrant             bool\n",
       "phd_age             float64\n",
       "life_science         object\n",
       "physical_science     object\n",
       "social_science       object\n",
       "engineering          object\n",
       "humanities           object\n",
       "education            object\n",
       "other                  bool\n",
       "dtype: object"
      ]
     },
     "execution_count": 58,
     "metadata": {},
     "output_type": "execute_result"
    }
   ],
   "source": [
    "f_scientists.dtypes"
   ]
  },
  {
   "cell_type": "code",
   "execution_count": 59,
   "metadata": {
    "collapsed": true
   },
   "outputs": [],
   "source": [
    "f_scientists.life_science= f_scientists.life_science.astype('bool')\n",
    "f_scientists.physical_science= f_scientists.physical_science.astype('bool')\n",
    "f_scientists.social_science= f_scientists.social_science.astype('bool')\n",
    "f_scientists.engineering= f_scientists.engineering.astype('bool')\n",
    "f_scientists.humanities= f_scientists.humanities.astype('bool')\n",
    "f_scientists.education= f_scientists.education.astype('bool')"
   ]
  },
  {
   "cell_type": "code",
   "execution_count": 60,
   "metadata": {},
   "outputs": [
    {
     "data": {
      "image/png": "[encoded data removed]",
      "text/plain": [
       "<matplotlib.figure.Figure at 0x116b13c88>"
      ]
     },
     "metadata": {},
     "output_type": "display_data"
    }
   ],
   "source": [
    "# still the majority of fields remain uncategorized, but not by that much\n",
    "f_scientists.plot(kind='density', figsize=(20, 35), layout=(10,4), subplots=True, sharex=False) \n",
    "plt.show()"
   ]
  },
  {
   "cell_type": "markdown",
   "metadata": {},
   "source": [
    "### Where do most foreign orcid scientists come from?"
   ]
  },
  {
   "cell_type": "code",
   "execution_count": 61,
   "metadata": {
    "collapsed": true
   },
   "outputs": [],
   "source": [
    "scientist_countries = f_scientists.reset_index()\n",
    "scientist_countries = scientist_countries[['earliest_country','orcid_id']]"
   ]
  },
  {
   "cell_type": "code",
   "execution_count": 62,
   "metadata": {},
   "outputs": [
    {
     "data": {
      "text/plain": [
       "''"
      ]
     },
     "execution_count": 62,
     "metadata": {},
     "output_type": "execute_result"
    },
    {
     "data": {
      "image/png": "[encoded data removed]",
      "text/plain": [
       "<matplotlib.figure.Figure at 0x117f31128>"
      ]
     },
     "metadata": {},
     "output_type": "display_data"
    }
   ],
   "source": [
    "most = scientist_countries.groupby(\"earliest_country\").count().sort_values(by='orcid_id', ascending = False).head(15)\n",
    "most[\"earliest_country\"] = most.index\n",
    "plt.title(\"Number of scientists originating in a given country\", fontsize=20)\n",
    "sns.barplot(x=\"earliest_country\", y=\"orcid_id\", data=most)\n",
    "plt.ylabel('# Scientists', fontsize=10)\n",
    "plt.xlabel('Country code', fontsize=10)\n",
    ";"
   ]
  },
  {
   "cell_type": "markdown",
   "metadata": {},
   "source": [
    "### Where do most US Migrants come from?"
   ]
  },
  {
   "cell_type": "code",
   "execution_count": 63,
   "metadata": {
    "collapsed": true
   },
   "outputs": [],
   "source": [
    "us_migrants = f_scientists[f_scientists['US_Migrant']==True].reset_index()\n",
    "us_migrants = us_migrants[['earliest_country','orcid_id']]"
   ]
  },
  {
   "cell_type": "code",
   "execution_count": 64,
   "metadata": {},
   "outputs": [
    {
     "data": {
      "text/plain": [
       "''"
      ]
     },
     "execution_count": 64,
     "metadata": {},
     "output_type": "execute_result"
    },
    {
     "data": {
      "image/png": "[encoded data removed]",
      "text/plain": [
       "<matplotlib.figure.Figure at 0x11a000240>"
      ]
     },
     "metadata": {},
     "output_type": "display_data"
    }
   ],
   "source": [
    "most_us = us_migrants.groupby(\"earliest_country\").count().sort_values(by='orcid_id', ascending = False).head(15)\n",
    "most_us['earliest_country'] = most_us.index\n",
    "plt.title('US Migrant Country of Origin', fontsize=20)\n",
    "sns.barplot(x='earliest_country', y='orcid_id', data=most_us)\n",
    ";"
   ]
  },
  {
   "cell_type": "markdown",
   "metadata": {},
   "source": [
    "### Box Plots of Numerical Features"
   ]
  },
  {
   "cell_type": "code",
   "execution_count": 65,
   "metadata": {},
   "outputs": [
    {
     "data": {
      "image/png": "[encoded data removed]",
      "text/plain": [
       "<matplotlib.figure.Figure at 0x1178f8630>"
      ]
     },
     "metadata": {},
     "output_type": "display_data"
    }
   ],
   "source": [
    "f_scientists.plot(kind='box', subplots=True, figsize=(20, 35), layout=(7,6), sharex=False, sharey=False) \n",
    "plt.show()"
   ]
  },
  {
   "cell_type": "code",
   "execution_count": 66,
   "metadata": {},
   "outputs": [
    {
     "data": {
      "text/plain": [
       "<module 'matplotlib.pyplot' from '/Users/macg/anaconda/lib/python3.6/site-packages/matplotlib/pyplot.py'>"
      ]
     },
     "execution_count": 66,
     "metadata": {},
     "output_type": "execute_result"
    },
    {
     "data": {
      "image/png": "[encoded data removed]",
      "text/plain": [
       "<matplotlib.figure.Figure at 0x118a26550>"
      ]
     },
     "metadata": {},
     "output_type": "display_data"
    }
   ],
   "source": [
    "# non-leaky numerical features are not very strong correlates of US Migrant status\n",
    "\n",
    "corr = f_scientists.select_dtypes(include = ['float64', 'int64','bool']).iloc[:, :].corr()\n",
    "plt.figure(figsize=(12, 12))\n",
    "sns.heatmap(corr, vmax=1, square=True)\n",
    "sns.plt"
   ]
  },
  {
   "cell_type": "markdown",
   "metadata": {},
   "source": [
    "### Prepping Categorical Features for Model"
   ]
  },
  {
   "cell_type": "code",
   "execution_count": 67,
   "metadata": {},
   "outputs": [
    {
     "data": {
      "text/plain": [
       "earliest_year            0\n",
       "earliest_country         0\n",
       "end_year                 0\n",
       "Ringgold_id          71523\n",
       "affiliation_type         0\n",
       "affiliation_role     18521\n",
       "has_phd                  0\n",
       "phd_year            144347\n",
       "US_Migrant               0\n",
       "phd_age             146214\n",
       "life_science             0\n",
       "physical_science         0\n",
       "social_science           0\n",
       "engineering              0\n",
       "humanities               0\n",
       "education                0\n",
       "other                    0\n",
       "dtype: int64"
      ]
     },
     "execution_count": 67,
     "metadata": {},
     "output_type": "execute_result"
    }
   ],
   "source": [
    "len(f_scientists)-f_scientists.count()"
   ]
  },
  {
   "cell_type": "code",
   "execution_count": 68,
   "metadata": {
    "collapsed": true
   },
   "outputs": [],
   "source": [
    "missing_org = f_scientists[f_scientists['Ringgold_id'].isnull()==True].reset_index()"
   ]
  },
  {
   "cell_type": "code",
   "execution_count": 69,
   "metadata": {},
   "outputs": [
    {
     "data": {
      "text/html": [
       "<div>\n",
       "<style>\n",
       "    .dataframe thead tr:only-child th {\n",
       "        text-align: right;\n",
       "    }\n",
       "\n",
       "    .dataframe thead th {\n",
       "        text-align: left;\n",
       "    }\n",
       "\n",
       "    .dataframe tbody tr th {\n",
       "        vertical-align: top;\n",
       "    }\n",
       "</style>\n",
       "<table border=\"1\" class=\"dataframe\">\n",
       "  <thead>\n",
       "    <tr style=\"text-align: right;\">\n",
       "      <th>US_Migrant</th>\n",
       "      <th>False</th>\n",
       "      <th>True</th>\n",
       "    </tr>\n",
       "    <tr>\n",
       "      <th>has_phd</th>\n",
       "      <th></th>\n",
       "      <th></th>\n",
       "    </tr>\n",
       "  </thead>\n",
       "  <tbody>\n",
       "    <tr>\n",
       "      <th>False</th>\n",
       "      <td>38680</td>\n",
       "      <td>287</td>\n",
       "    </tr>\n",
       "    <tr>\n",
       "      <th>True</th>\n",
       "      <td>31542</td>\n",
       "      <td>1014</td>\n",
       "    </tr>\n",
       "  </tbody>\n",
       "</table>\n",
       "</div>"
      ],
      "text/plain": [
       "US_Migrant  False  True \n",
       "has_phd                 \n",
       "False       38680    287\n",
       "True        31542   1014"
      ]
     },
     "execution_count": 69,
     "metadata": {},
     "output_type": "execute_result"
    }
   ],
   "source": [
    "miss_org_dist = pd.crosstab(index=[missing_org.has_phd], columns=[missing_org.US_Migrant])\n",
    "#migrant_doctors.columns = [['Not US Migrant','US Migrant']]\n",
    "miss_org_dist"
   ]
  },
  {
   "cell_type": "code",
   "execution_count": 70,
   "metadata": {},
   "outputs": [
    {
     "data": {
      "text/plain": [
       "(263762, 17)"
      ]
     },
     "execution_count": 70,
     "metadata": {},
     "output_type": "execute_result"
    }
   ],
   "source": [
    "f_scientists.shape"
   ]
  },
  {
   "cell_type": "markdown",
   "metadata": {},
   "source": [
    "### Dealing with missing values"
   ]
  },
  {
   "cell_type": "code",
   "execution_count": 71,
   "metadata": {},
   "outputs": [
    {
     "name": "stdout",
     "output_type": "stream",
     "text": [
      "% of scientists missing an org: 0.271164913823826\n"
     ]
    }
   ],
   "source": [
    "print(\"% of scientists missing an org:\",71523/263762)"
   ]
  },
  {
   "cell_type": "code",
   "execution_count": 72,
   "metadata": {
    "collapsed": true
   },
   "outputs": [],
   "source": [
    "f_scientists = f_scientists.drop(['Ringgold_id'], axis=1)"
   ]
  },
  {
   "cell_type": "markdown",
   "metadata": {},
   "source": [
    "### Affiliation_role"
   ]
  },
  {
   "cell_type": "code",
   "execution_count": 73,
   "metadata": {
    "collapsed": true
   },
   "outputs": [],
   "source": [
    "f_scientists['affiliation_role'].fillna(f_scientists['affiliation_type'], inplace=True)"
   ]
  },
  {
   "cell_type": "markdown",
   "metadata": {},
   "source": [
    "### phd_year & age"
   ]
  },
  {
   "cell_type": "code",
   "execution_count": 74,
   "metadata": {
    "collapsed": true
   },
   "outputs": [],
   "source": [
    "f_scientists['phd_year'].fillna(0,inplace=True)\n",
    "f_scientists['phd_age'].fillna(0,inplace=True)"
   ]
  },
  {
   "cell_type": "code",
   "execution_count": 75,
   "metadata": {},
   "outputs": [
    {
     "data": {
      "text/plain": [
       "earliest_year       0\n",
       "earliest_country    0\n",
       "end_year            0\n",
       "affiliation_type    0\n",
       "affiliation_role    0\n",
       "has_phd             0\n",
       "phd_year            0\n",
       "US_Migrant          0\n",
       "phd_age             0\n",
       "life_science        0\n",
       "physical_science    0\n",
       "social_science      0\n",
       "engineering         0\n",
       "humanities          0\n",
       "education           0\n",
       "other               0\n",
       "dtype: int64"
      ]
     },
     "execution_count": 75,
     "metadata": {},
     "output_type": "execute_result"
    }
   ],
   "source": [
    "len(f_scientists)-f_scientists.count()"
   ]
  },
  {
   "cell_type": "markdown",
   "metadata": {},
   "source": [
    "### Identify Categorical Features"
   ]
  },
  {
   "cell_type": "code",
   "execution_count": 76,
   "metadata": {
    "scrolled": true
   },
   "outputs": [
    {
     "name": "stdout",
     "output_type": "stream",
     "text": [
      "['earliest_country' 'affiliation_type' 'affiliation_role']\n"
     ]
    }
   ],
   "source": [
    "print(f_scientists.select_dtypes(include=['object']).columns.values)"
   ]
  },
  {
   "cell_type": "markdown",
   "metadata": {},
   "source": [
    "### One Hot Encoder"
   ]
  },
  {
   "cell_type": "code",
   "execution_count": 77,
   "metadata": {},
   "outputs": [
    {
     "data": {
      "text/plain": [
       "earliest_year       float64\n",
       "earliest_country     object\n",
       "end_year            float64\n",
       "affiliation_type     object\n",
       "affiliation_role     object\n",
       "has_phd                bool\n",
       "phd_year            float64\n",
       "US_Migrant             bool\n",
       "phd_age             float64\n",
       "life_science           bool\n",
       "physical_science       bool\n",
       "social_science         bool\n",
       "engineering            bool\n",
       "humanities             bool\n",
       "education              bool\n",
       "other                  bool\n",
       "dtype: object"
      ]
     },
     "execution_count": 77,
     "metadata": {},
     "output_type": "execute_result"
    }
   ],
   "source": [
    "f_scientists.dtypes"
   ]
  },
  {
   "cell_type": "code",
   "execution_count": 78,
   "metadata": {
    "collapsed": true
   },
   "outputs": [],
   "source": [
    "from sklearn.preprocessing import OneHotEncoder\n",
    "\n",
    "\n",
    "from sklearn.preprocessing import LabelEncoder\n",
    "\n",
    "def label_encoder(df):\n",
    "    df_object = df.select_dtypes(include=['object','bool']) # Taking the categorical columns only\n",
    "    categorical_Cols = list(df_object.columns) # Inputting the categorical columns into a list\n",
    "\n",
    "    # process columns, apply LabelEncoder to categorical features\n",
    "    for c in categorical_Cols:\n",
    "        lbl = LabelEncoder()\n",
    "        lbl.fit(list(df[c].values))\n",
    "        df[c] = lbl.transform(list(df[c].values))\n",
    "\n",
    "    # shape        \n",
    "    print('Shape all_data: {}'.format(df.shape))\n",
    "\n",
    "    return df\n",
    "\n",
    "\n",
    "\n",
    "\n",
    "def onehot_encoder(df):\n",
    "    df_object = df.select_dtypes(include=['object','bool']) # Taking the categorical columns only\n",
    "    categorical_Cols = list(df_object.columns) # Inputting the categorical columns into a list\n",
    "\n",
    "    # process columns, apply LabelEncoder to categorical features\n",
    "    for c in categorical_Cols:\n",
    "        lbl = OneHotEncoder()\n",
    "        lbl.fit(list(df[c].values))\n",
    "        df[c] = lbl.transform(list(df[c].values))\n",
    "\n",
    "    # shape        \n",
    "    print('Shape all_data: {}'.format(df.shape))\n",
    "\n",
    "    return df"
   ]
  },
  {
   "cell_type": "code",
   "execution_count": 79,
   "metadata": {},
   "outputs": [
    {
     "name": "stdout",
     "output_type": "stream",
     "text": [
      "Shape all_data: (263762, 16)\n",
      "Shape all_data: (263762, 16)\n"
     ]
    }
   ],
   "source": [
    "f_scientists = label_encoder(f_scientists)\n",
    "f_scientists = onehot_encoder(f_scientists)"
   ]
  },
  {
   "cell_type": "code",
   "execution_count": 80,
   "metadata": {},
   "outputs": [
    {
     "data": {
      "text/plain": [
       "earliest_year       float64\n",
       "earliest_country      int64\n",
       "end_year            float64\n",
       "affiliation_type      int64\n",
       "affiliation_role      int64\n",
       "has_phd               int64\n",
       "phd_year            float64\n",
       "US_Migrant            int64\n",
       "phd_age             float64\n",
       "life_science          int64\n",
       "physical_science      int64\n",
       "social_science        int64\n",
       "engineering           int64\n",
       "humanities            int64\n",
       "education             int64\n",
       "other                 int64\n",
       "dtype: object"
      ]
     },
     "execution_count": 80,
     "metadata": {},
     "output_type": "execute_result"
    }
   ],
   "source": [
    "f_scientists.dtypes"
   ]
  },
  {
   "cell_type": "markdown",
   "metadata": {},
   "source": [
    "# Modelling"
   ]
  },
  {
   "cell_type": "markdown",
   "metadata": {},
   "source": [
    "### Train - Test Split"
   ]
  },
  {
   "cell_type": "code",
   "execution_count": 81,
   "metadata": {
    "collapsed": true
   },
   "outputs": [],
   "source": [
    "training_features, test_features, \\\n",
    "training_target, test_target, = train_test_split(f_scientists.drop(['US_Migrant'], axis=1),\n",
    "                                               f_scientists['US_Migrant'],\n",
    "                                               test_size = .1,\n",
    "                                               random_state=12)"
   ]
  },
  {
   "cell_type": "markdown",
   "metadata": {},
   "source": [
    "### Oversampling to Correct Imbalance of US Migrants"
   ]
  },
  {
   "cell_type": "code",
   "execution_count": 82,
   "metadata": {
    "collapsed": true
   },
   "outputs": [],
   "source": [
    "x_train, x_val, y_train, y_val = train_test_split(training_features, training_target,\n",
    "                                                  test_size = .1,\n",
    "                                                  random_state=12)"
   ]
  },
  {
   "cell_type": "code",
   "execution_count": 83,
   "metadata": {
    "collapsed": true
   },
   "outputs": [],
   "source": [
    "#By oversampling only on the training data, none of the information in the validation data \n",
    "#is being used to create synthetic observations. So these results should be generalizable.\n",
    "\n",
    "from imblearn.over_sampling import SMOTE\n",
    "\n",
    "sm = SMOTE(random_state=12, ratio = 1.0)\n",
    "x_train_res, y_train_res = sm.fit_sample(x_train, y_train)"
   ]
  },
  {
   "cell_type": "markdown",
   "metadata": {},
   "source": [
    "### Model Testing"
   ]
  },
  {
   "cell_type": "code",
   "execution_count": 84,
   "metadata": {
    "scrolled": true
   },
   "outputs": [
    {
     "name": "stdout",
     "output_type": "stream",
     "text": [
      "LR: 0.728571 (0.064230)\n",
      "LDA: 0.753516 (0.051709)\n",
      "NB: 0.759065 (0.006285)\n",
      "CART: 0.670903 (0.307535)\n",
      "KNeighborsClassifier: 0.933596 (0.007568)\n",
      "XGBClassifier: 0.818556 (0.059114)\n",
      "GradientBoostingClassifier: 0.790443 (0.098013)\n",
      "AdaBoostClassifier: 0.778272 (0.039880)\n",
      "RandomForestClassifier: 0.673586 (0.305678)\n",
      "ExtraTreesClassifier: 0.784863 (0.184558)\n"
     ]
    }
   ],
   "source": [
    "from sklearn.ensemble import RandomForestClassifier\n",
    "from sklearn.tree import DecisionTreeClassifier\n",
    "from sklearn.model_selection import KFold\n",
    "from sklearn.model_selection import GridSearchCV\n",
    "from sklearn.ensemble import RandomForestClassifier\n",
    "from sklearn.neighbors import KNeighborsClassifier\n",
    "from sklearn.ensemble import GradientBoostingClassifier\n",
    "from sklearn.ensemble import AdaBoostClassifier\n",
    "from sklearn.ensemble import ExtraTreesClassifier\n",
    "from sklearn import cross_validation\n",
    "\n",
    "# Test options and evaluation metric\n",
    "num_folds = 10\n",
    "num_instances = len(x_train_res) \n",
    "seed = 7\n",
    "scoring = 'recall'\n",
    "\n",
    "# Spot-Check Algorithms\n",
    "models = []\n",
    "models.append(('LR', LogisticRegression()))\n",
    "models.append(('LDA', LinearDiscriminantAnalysis()))\n",
    "models.append(('NB', GaussianNB()))\n",
    "models.append(('CART', DecisionTreeClassifier())) \n",
    "models.append(('KNeighborsClassifier', KNeighborsClassifier())) \n",
    "models.append(('XGBClassifier', xgb.XGBClassifier()))\n",
    "models.append(('GradientBoostingClassifier', GradientBoostingClassifier()))\n",
    "models.append(('AdaBoostClassifier', AdaBoostClassifier()))\n",
    "models.append(('RandomForestClassifier', RandomForestClassifier()))\n",
    "models.append(('ExtraTreesClassifier', ExtraTreesClassifier()))\n",
    "\n",
    "# evaluate each model in turn\n",
    "results = []\n",
    "names = []\n",
    "for name, model in models:\n",
    "    kfold = cross_validation.KFold(n=num_instances, n_folds=num_folds, random_state=seed)\n",
    "    cv_results = cross_validation.cross_val_score(model, x_train_res, y_train_res, cv=kfold,\n",
    "        scoring=scoring)\n",
    "    results.append(cv_results)\n",
    "    names.append(name)\n",
    "    model.fit(x_train_res, y_train_res)\n",
    "    predicted = model.predict(x_train_res)\n",
    "    msg = \"%s: %f (%f)\" % (name, cv_results.mean(), cv_results.std())\n",
    "    print(msg)"
   ]
  },
  {
   "cell_type": "markdown",
   "metadata": {},
   "source": [
    "## Model Comparison"
   ]
  },
  {
   "cell_type": "code",
   "execution_count": 85,
   "metadata": {
    "collapsed": true
   },
   "outputs": [],
   "source": [
    "def plot_model_score_distribution(results, names):\n",
    "    ymin = .1\n",
    "    ymax = .95\n",
    "    fig = plt.figure(figsize=(25,10)) \n",
    "    fig.suptitle('Algorithm Comparison') \n",
    "    ax = fig.add_subplot(111) \n",
    "    plt.boxplot(results) \n",
    "    ax.set_ylim([ymin,ymax])\n",
    "    ax.set_xticklabels(names)\n",
    "    plt.show()"
   ]
  },
  {
   "cell_type": "code",
   "execution_count": 86,
   "metadata": {},
   "outputs": [
    {
     "data": {
      "image/png": "[encoded data removed]",
      "text/plain": [
       "<matplotlib.figure.Figure at 0x121688470>"
      ]
     },
     "metadata": {},
     "output_type": "display_data"
    }
   ],
   "source": [
    "plot_model_score_distribution(results, names)"
   ]
  },
  {
   "cell_type": "markdown",
   "metadata": {},
   "source": [
    "### Baseline Classifier"
   ]
  },
  {
   "cell_type": "code",
   "execution_count": 87,
   "metadata": {},
   "outputs": [
    {
     "data": {
      "text/plain": [
       "RandomForestClassifier(bootstrap=True, class_weight=None, criterion='gini',\n",
       "            max_depth=None, max_features='auto', max_leaf_nodes=None,\n",
       "            min_impurity_decrease=0.0, min_impurity_split=None,\n",
       "            min_samples_leaf=1, min_samples_split=2,\n",
       "            min_weight_fraction_leaf=0.0, n_estimators=25, n_jobs=1,\n",
       "            oob_score=False, random_state=12, verbose=0, warm_start=False)"
      ]
     },
     "execution_count": 87,
     "metadata": {},
     "output_type": "execute_result"
    }
   ],
   "source": [
    "from sklearn.ensemble import RandomForestClassifier\n",
    "\n",
    "clf_rf = RandomForestClassifier(n_estimators=25, random_state=12)\n",
    "clf_rf.fit(x_train_res, y_train_res)"
   ]
  },
  {
   "cell_type": "code",
   "execution_count": 88,
   "metadata": {},
   "outputs": [
    {
     "name": "stdout",
     "output_type": "stream",
     "text": [
      "Validation Results\n",
      "0.954463119761\n",
      "0.195936139332\n",
      "\n",
      "Test Results\n",
      "0.952799787694\n",
      "0.181585677749\n"
     ]
    }
   ],
   "source": [
    "# the validation and test results are similar, indicating that the up-sampling process has not corrupted \n",
    "# the training sample by correcting the class imbalance.\n",
    "\n",
    "from sklearn.metrics import recall_score\n",
    "\n",
    "print('Validation Results')\n",
    "print(clf_rf.score(x_val, y_val))\n",
    "print(recall_score(y_val, clf_rf.predict(x_val)))\n",
    "print('\\nTest Results')\n",
    "print(clf_rf.score(test_features, test_target))\n",
    "print(recall_score(test_target, clf_rf.predict(test_features)))"
   ]
  },
  {
   "cell_type": "markdown",
   "metadata": {},
   "source": [
    "## Tuning"
   ]
  },
  {
   "cell_type": "code",
   "execution_count": 89,
   "metadata": {
    "collapsed": true
   },
   "outputs": [],
   "source": [
    "def local_cv(model, params):\n",
    "    param_grid = params\n",
    "    kfold = KFold(n_splits=num_folds, random_state=seed)\n",
    "    grid = GridSearchCV(estimator=model, param_grid=param_grid, scoring=scoring, cv=kfold)\n",
    "    grid_result = grid.fit(x_train_res, y_train_res)\n",
    "    print(\"Best: %f using %s\" % (grid_result.best_score_, grid_result.best_params_))\n",
    "    for params, mean_score, scores in grid_result.grid_scores_:\n",
    "        print(\"%f (%f) with: %r\" % (scores.mean(), scores.std(), params))"
   ]
  },
  {
   "cell_type": "markdown",
   "metadata": {},
   "source": [
    "### XGB Classifier"
   ]
  },
  {
   "cell_type": "code",
   "execution_count": 90,
   "metadata": {},
   "outputs": [
    {
     "data": {
      "text/plain": [
       "dict_keys(['base_score', 'colsample_bylevel', 'colsample_bytree', 'gamma', 'learning_rate', 'max_delta_step', 'max_depth', 'min_child_weight', 'missing', 'n_estimators', 'nthread', 'objective', 'reg_alpha', 'reg_lambda', 'scale_pos_weight', 'seed', 'silent', 'subsample'])"
      ]
     },
     "execution_count": 90,
     "metadata": {},
     "output_type": "execute_result"
    }
   ],
   "source": [
    "xgb.XGBClassifier().get_params().keys()"
   ]
  },
  {
   "cell_type": "code",
   "execution_count": 91,
   "metadata": {},
   "outputs": [
    {
     "name": "stdout",
     "output_type": "stream",
     "text": [
      "Best: 0.868353 using {'learning_rate': 0.04, 'max_depth': 2, 'n_estimators': 37}\n",
      "0.868085 (0.059141) with: {'learning_rate': 0.04, 'max_depth': 2, 'n_estimators': 36}\n",
      "0.868353 (0.058877) with: {'learning_rate': 0.04, 'max_depth': 2, 'n_estimators': 37}\n",
      "0.868171 (0.059061) with: {'learning_rate': 0.04, 'max_depth': 2, 'n_estimators': 38}\n"
     ]
    }
   ],
   "source": [
    "params = {\"max_depth\":[2], \"n_estimators\":[36,37,38], \"learning_rate\":[.04]}\n",
    "local_cv(xgb.XGBClassifier(), params)"
   ]
  },
  {
   "cell_type": "code",
   "execution_count": 92,
   "metadata": {},
   "outputs": [
    {
     "data": {
      "text/plain": [
       "XGBClassifier(base_score=0.5, colsample_bylevel=1, colsample_bytree=1,\n",
       "       gamma=0, learning_rate=0.04, max_delta_step=0, max_depth=2,\n",
       "       min_child_weight=1, missing=None, n_estimators=37, nthread=-1,\n",
       "       objective='binary:logistic', reg_alpha=0, reg_lambda=1,\n",
       "       scale_pos_weight=1, seed=0, silent=True, subsample=1)"
      ]
     },
     "execution_count": 92,
     "metadata": {},
     "output_type": "execute_result"
    }
   ],
   "source": [
    "clf_rf = xgb.XGBClassifier(n_estimators= 37, learning_rate = .04, max_depth = 2)\n",
    "clf_rf.fit(x_train_res, y_train_res)"
   ]
  },
  {
   "cell_type": "code",
   "execution_count": 93,
   "metadata": {
    "collapsed": true
   },
   "outputs": [],
   "source": [
    "x_val2 =x_val.as_matrix()"
   ]
  },
  {
   "cell_type": "code",
   "execution_count": 94,
   "metadata": {
    "collapsed": true
   },
   "outputs": [],
   "source": [
    "test_features2 = test_features.as_matrix()"
   ]
  },
  {
   "cell_type": "code",
   "execution_count": 95,
   "metadata": {},
   "outputs": [
    {
     "name": "stdout",
     "output_type": "stream",
     "text": [
      "Validation Results\n",
      "0.55701588104\n",
      "0.901306240929\n",
      "\n",
      "Test Results\n",
      "0.56067786329\n",
      "0.878516624041\n"
     ]
    }
   ],
   "source": [
    "from sklearn.metrics import recall_score\n",
    "\n",
    "print('Validation Results')\n",
    "print(clf_rf.score(x_val2, y_val))\n",
    "print(recall_score(y_val, clf_rf.predict(x_val2)))\n",
    "print('\\nTest Results')\n",
    "print(clf_rf.score(test_features2, test_target))\n",
    "print(recall_score(test_target, clf_rf.predict(test_features2)))"
   ]
  },
  {
   "cell_type": "markdown",
   "metadata": {},
   "source": [
    "### kNN Classifier"
   ]
  },
  {
   "cell_type": "code",
   "execution_count": null,
   "metadata": {},
   "outputs": [],
   "source": [
    "from sklearn.neighbors import KNeighborsClassifier\n",
    "KNeighborsClassifier().get_params().keys()"
   ]
  },
  {
   "cell_type": "code",
   "execution_count": 97,
   "metadata": {},
   "outputs": [
    {
     "name": "stdout",
     "output_type": "stream",
     "text": [
      "Best: 0.935627 using {'n_neighbors': 9, 'weights': 'uniform'}\n",
      "0.935627 (0.008078) with: {'n_neighbors': 9, 'weights': 'uniform'}\n",
      "0.894726 (0.055464) with: {'n_neighbors': 9, 'weights': 'distance'}\n"
     ]
    }
   ],
   "source": [
    "# try using alternate weights, e.g. uniform vs distance\n",
    "\n",
    "params = {\"n_neighbors\":[9],\"weights\":['uniform','distance']}\n",
    "local_cv(KNeighborsClassifier(), params)"
   ]
  },
  {
   "cell_type": "code",
   "execution_count": 98,
   "metadata": {},
   "outputs": [
    {
     "data": {
      "text/plain": [
       "KNeighborsClassifier(algorithm='auto', leaf_size=30, metric='minkowski',\n",
       "           metric_params=None, n_jobs=1, n_neighbors=9, p=2,\n",
       "           weights='uniform')"
      ]
     },
     "execution_count": 98,
     "metadata": {},
     "output_type": "execute_result"
    }
   ],
   "source": [
    "clf_rf = KNeighborsClassifier(n_neighbors = 9,weights = 'uniform')\n",
    "clf_rf.fit(x_train_res, y_train_res)"
   ]
  },
  {
   "cell_type": "code",
   "execution_count": 99,
   "metadata": {},
   "outputs": [
    {
     "name": "stdout",
     "output_type": "stream",
     "text": [
      "Validation Results\n",
      "0.834913012343\n",
      "0.571843251089\n",
      "\n",
      "Test Results\n",
      "0.842059369906\n",
      "0.56010230179\n"
     ]
    }
   ],
   "source": [
    "from sklearn.metrics import recall_score\n",
    "\n",
    "print('Validation Results')\n",
    "print(clf_rf.score(x_val2, y_val))\n",
    "print(recall_score(y_val, clf_rf.predict(x_val2)))\n",
    "print('\\nTest Results')\n",
    "print(clf_rf.score(test_features2, test_target))\n",
    "print(recall_score(test_target, clf_rf.predict(test_features2)))"
   ]
  },
  {
   "cell_type": "markdown",
   "metadata": {},
   "source": [
    "### Gradient Boosting Classifier"
   ]
  },
  {
   "cell_type": "code",
   "execution_count": 100,
   "metadata": {},
   "outputs": [
    {
     "data": {
      "text/plain": [
       "dict_keys(['criterion', 'init', 'learning_rate', 'loss', 'max_depth', 'max_features', 'max_leaf_nodes', 'min_impurity_decrease', 'min_impurity_split', 'min_samples_leaf', 'min_samples_split', 'min_weight_fraction_leaf', 'n_estimators', 'presort', 'random_state', 'subsample', 'verbose', 'warm_start'])"
      ]
     },
     "execution_count": 100,
     "metadata": {},
     "output_type": "execute_result"
    }
   ],
   "source": [
    "from sklearn.ensemble import GradientBoostingClassifier\n",
    "GradientBoostingClassifier().get_params().keys()"
   ]
  },
  {
   "cell_type": "code",
   "execution_count": 101,
   "metadata": {
    "scrolled": true
   },
   "outputs": [
    {
     "name": "stdout",
     "output_type": "stream",
     "text": [
      "Best: 0.840431 using {'learning_rate': 0.04, 'max_depth': 3, 'n_estimators': 31}\n",
      "0.836849 (0.081099) with: {'learning_rate': 0.04, 'max_depth': 3, 'n_estimators': 29}\n",
      "0.839720 (0.078879) with: {'learning_rate': 0.04, 'max_depth': 3, 'n_estimators': 30}\n",
      "0.840431 (0.076960) with: {'learning_rate': 0.04, 'max_depth': 3, 'n_estimators': 31}\n",
      "0.837999 (0.066380) with: {'learning_rate': 0.05, 'max_depth': 3, 'n_estimators': 29}\n",
      "0.839073 (0.063498) with: {'learning_rate': 0.05, 'max_depth': 3, 'n_estimators': 30}\n",
      "0.838869 (0.062520) with: {'learning_rate': 0.05, 'max_depth': 3, 'n_estimators': 31}\n"
     ]
    }
   ],
   "source": [
    "params = {\"learning_rate\":[.04,.05],\"max_depth\":[3], \"n_estimators\":[29,30,31]}\n",
    "local_cv(GradientBoostingClassifier(), params)"
   ]
  },
  {
   "cell_type": "code",
   "execution_count": 102,
   "metadata": {},
   "outputs": [
    {
     "data": {
      "text/plain": [
       "GradientBoostingClassifier(criterion='friedman_mse', init=None,\n",
       "              learning_rate=0.04, loss='deviance', max_depth=3,\n",
       "              max_features=None, max_leaf_nodes=None,\n",
       "              min_impurity_decrease=0.0, min_impurity_split=None,\n",
       "              min_samples_leaf=1, min_samples_split=2,\n",
       "              min_weight_fraction_leaf=0.0, n_estimators=31,\n",
       "              presort='auto', random_state=None, subsample=1.0, verbose=0,\n",
       "              warm_start=False)"
      ]
     },
     "execution_count": 102,
     "metadata": {},
     "output_type": "execute_result"
    }
   ],
   "source": [
    "clf_rf = GradientBoostingClassifier(n_estimators= 31, learning_rate = .04, max_depth = 3)\n",
    "clf_rf.fit(x_train_res, y_train_res)"
   ]
  },
  {
   "cell_type": "code",
   "execution_count": 103,
   "metadata": {},
   "outputs": [
    {
     "name": "stdout",
     "output_type": "stream",
     "text": [
      "Validation Results\n",
      "0.628038249294\n",
      "0.838896952104\n",
      "\n",
      "Test Results\n",
      "0.630928460401\n",
      "0.832480818414\n"
     ]
    }
   ],
   "source": [
    "from sklearn.metrics import recall_score\n",
    "\n",
    "print('Validation Results')\n",
    "print(clf_rf.score(x_val2, y_val))\n",
    "print(recall_score(y_val, clf_rf.predict(x_val2)))\n",
    "print('\\nTest Results')\n",
    "print(clf_rf.score(test_features2, test_target))\n",
    "print(recall_score(test_target, clf_rf.predict(test_features2)))"
   ]
  },
  {
   "cell_type": "markdown",
   "metadata": {},
   "source": [
    "### Extra Trees Classifier"
   ]
  },
  {
   "cell_type": "code",
   "execution_count": 104,
   "metadata": {},
   "outputs": [
    {
     "data": {
      "text/plain": [
       "dict_keys(['bootstrap', 'class_weight', 'criterion', 'max_depth', 'max_features', 'max_leaf_nodes', 'min_impurity_decrease', 'min_impurity_split', 'min_samples_leaf', 'min_samples_split', 'min_weight_fraction_leaf', 'n_estimators', 'n_jobs', 'oob_score', 'random_state', 'verbose', 'warm_start'])"
      ]
     },
     "execution_count": 104,
     "metadata": {},
     "output_type": "execute_result"
    }
   ],
   "source": [
    "from sklearn.ensemble import ExtraTreesClassifier\n",
    "ExtraTreesClassifier().get_params().keys()"
   ]
  },
  {
   "cell_type": "code",
   "execution_count": 105,
   "metadata": {},
   "outputs": [
    {
     "name": "stdout",
     "output_type": "stream",
     "text": [
      "Best: 0.755394 using {'max_depth': 2, 'n_estimators': 65}\n",
      "0.751985 (0.015095) with: {'max_depth': 2, 'n_estimators': 64}\n",
      "0.755394 (0.015914) with: {'max_depth': 2, 'n_estimators': 65}\n",
      "0.753792 (0.016810) with: {'max_depth': 2, 'n_estimators': 66}\n"
     ]
    }
   ],
   "source": [
    "params = {\"max_depth\":[2], \"n_estimators\":[64,65,66]}\n",
    "local_cv(ExtraTreesClassifier(), params)"
   ]
  },
  {
   "cell_type": "code",
   "execution_count": 106,
   "metadata": {},
   "outputs": [
    {
     "data": {
      "text/plain": [
       "ExtraTreesClassifier(bootstrap=False, class_weight=None, criterion='gini',\n",
       "           max_depth=2, max_features='auto', max_leaf_nodes=None,\n",
       "           min_impurity_decrease=0.0, min_impurity_split=None,\n",
       "           min_samples_leaf=1, min_samples_split=2,\n",
       "           min_weight_fraction_leaf=0.0, n_estimators=65, n_jobs=1,\n",
       "           oob_score=False, random_state=None, verbose=0, warm_start=False)"
      ]
     },
     "execution_count": 106,
     "metadata": {},
     "output_type": "execute_result"
    }
   ],
   "source": [
    "clf_rf = ExtraTreesClassifier(n_estimators= 65, max_depth = 2)\n",
    "clf_rf.fit(x_train_res, y_train_res)"
   ]
  },
  {
   "cell_type": "code",
   "execution_count": 107,
   "metadata": {},
   "outputs": [
    {
     "name": "stdout",
     "output_type": "stream",
     "text": [
      "Validation Results\n",
      "0.627111504276\n",
      "0.743105950653\n",
      "\n",
      "Test Results\n",
      "0.625507070554\n",
      "0.754475703325\n"
     ]
    }
   ],
   "source": [
    "from sklearn.metrics import recall_score\n",
    "\n",
    "print('Validation Results')\n",
    "print(clf_rf.score(x_val2, y_val))\n",
    "print(recall_score(y_val, clf_rf.predict(x_val2)))\n",
    "print('\\nTest Results')\n",
    "print(clf_rf.score(test_features2, test_target))\n",
    "print(recall_score(test_target, clf_rf.predict(test_features2)))"
   ]
  },
  {
   "cell_type": "markdown",
   "metadata": {},
   "source": [
    "## Test"
   ]
  },
  {
   "cell_type": "code",
   "execution_count": 109,
   "metadata": {},
   "outputs": [
    {
     "name": "stdout",
     "output_type": "stream",
     "text": [
      "Training Results\n",
      "[ 0.93739968  0.94027304  0.93136472  0.93579595  0.92684887  0.92401061\n",
      "  0.89507691  0.89418487  0.89247312  0.90028449]\n",
      "Average Train Score\n",
      "0.917771226748\n",
      "Validation Results\n",
      "0.685664939551\n",
      "0.814223512337\n",
      "\n",
      "Test Results\n",
      "0.691208249611\n",
      "0.806905370844\n"
     ]
    }
   ],
   "source": [
    "# create the sub models\n",
    "estimators = []\n",
    "\n",
    "model1 = xgb.XGBClassifier(n_estimators= 37, learning_rate = .04, max_depth = 2)\n",
    "estimators.append(('XGBClassifier', model1))\n",
    "# model2 = ExtraTreesClassifier(n_estimators= 65, max_depth = 2)\n",
    "# estimators.append(('ExtraTreesClassifier', model2))\n",
    "model2 = KNeighborsClassifier(n_neighbors = 9,weights = 'uniform')\n",
    "estimators.append(('KNeighborsClassifier', model2))\n",
    "model3 = GradientBoostingClassifier(n_estimators= 31, learning_rate = .04, max_depth = 3)\n",
    "estimators.append(('GradientBoostingClassifier', model3))\n",
    "\n",
    "# create the ensemble model\n",
    "ensemble = VotingClassifier(estimators, voting='soft',weights =[6,1,4])\n",
    "results = cross_validation.cross_val_score(ensemble, x_train_res, y_train_res, cv=kfold,scoring=scoring) \n",
    "print('Training Results')\n",
    "print(results)\n",
    "print('Average Train Score')\n",
    "print(results.mean())\n",
    "\n",
    "ensemble.fit(x_train_res, y_train_res)\n",
    "\n",
    "print('Validation Results')\n",
    "print(ensemble.score(x_val2, y_val))\n",
    "print(recall_score(y_val, ensemble.predict(x_val2)))\n",
    "print('\\nTest Results')\n",
    "print(ensemble.score(test_features2, test_target))\n",
    "print(recall_score(test_target, ensemble.predict(test_features2)))"
   ]
  },
  {
   "cell_type": "markdown",
   "metadata": {},
   "source": [
    "### Feature Importance"
   ]
  },
  {
   "cell_type": "code",
   "execution_count": 110,
   "metadata": {},
   "outputs": [
    {
     "data": {
      "text/plain": [
       "XGBClassifier(base_score=0.5, colsample_bylevel=1, colsample_bytree=1,\n",
       "       gamma=0, learning_rate=0.04, max_delta_step=0, max_depth=2,\n",
       "       min_child_weight=1, missing=None, n_estimators=37, nthread=-1,\n",
       "       objective='binary:logistic', reg_alpha=0, reg_lambda=1,\n",
       "       scale_pos_weight=1, seed=0, silent=True, subsample=1)"
      ]
     },
     "execution_count": 110,
     "metadata": {},
     "output_type": "execute_result"
    }
   ],
   "source": [
    "model1.fit(x_train_res, y_train_res,eval_metric='logloss')"
   ]
  },
  {
   "cell_type": "code",
   "execution_count": 111,
   "metadata": {
    "scrolled": true
   },
   "outputs": [
    {
     "data": {
      "image/png": "[encoded data removed]",
      "text/plain": [
       "<matplotlib.figure.Figure at 0x12569b8d0>"
      ]
     },
     "metadata": {},
     "output_type": "display_data"
    }
   ],
   "source": [
    "feat_imp = pd.Series(model1.booster().get_fscore()).sort_values(ascending=False)\n",
    "feat_imp.plot(kind='bar', title='Feature Importances',figsize=(25,8))\n",
    "plt.ylabel('Feature Importance Score');"
   ]
  },
  {
   "cell_type": "code",
   "execution_count": 112,
   "metadata": {
    "scrolled": false
   },
   "outputs": [
    {
     "data": {
      "text/html": [
       "<div>\n",
       "<style>\n",
       "    .dataframe thead tr:only-child th {\n",
       "        text-align: right;\n",
       "    }\n",
       "\n",
       "    .dataframe thead th {\n",
       "        text-align: left;\n",
       "    }\n",
       "\n",
       "    .dataframe tbody tr th {\n",
       "        vertical-align: top;\n",
       "    }\n",
       "</style>\n",
       "<table border=\"1\" class=\"dataframe\">\n",
       "  <thead>\n",
       "    <tr style=\"text-align: right;\">\n",
       "      <th></th>\n",
       "      <th>earliest_year</th>\n",
       "      <th>earliest_country</th>\n",
       "      <th>end_year</th>\n",
       "      <th>affiliation_type</th>\n",
       "      <th>affiliation_role</th>\n",
       "      <th>has_phd</th>\n",
       "      <th>phd_year</th>\n",
       "      <th>phd_age</th>\n",
       "      <th>life_science</th>\n",
       "      <th>physical_science</th>\n",
       "      <th>social_science</th>\n",
       "      <th>engineering</th>\n",
       "      <th>humanities</th>\n",
       "      <th>education</th>\n",
       "      <th>other</th>\n",
       "    </tr>\n",
       "    <tr>\n",
       "      <th>orcid_id</th>\n",
       "      <th></th>\n",
       "      <th></th>\n",
       "      <th></th>\n",
       "      <th></th>\n",
       "      <th></th>\n",
       "      <th></th>\n",
       "      <th></th>\n",
       "      <th></th>\n",
       "      <th></th>\n",
       "      <th></th>\n",
       "      <th></th>\n",
       "      <th></th>\n",
       "      <th></th>\n",
       "      <th></th>\n",
       "      <th></th>\n",
       "    </tr>\n",
       "  </thead>\n",
       "  <tbody>\n",
       "    <tr>\n",
       "      <th>0000-0001-9837-6433</th>\n",
       "      <td>1995.0</td>\n",
       "      <td>132</td>\n",
       "      <td>1998.0</td>\n",
       "      <td>1</td>\n",
       "      <td>69180</td>\n",
       "      <td>0</td>\n",
       "      <td>0.0</td>\n",
       "      <td>0.0</td>\n",
       "      <td>0</td>\n",
       "      <td>0</td>\n",
       "      <td>0</td>\n",
       "      <td>0</td>\n",
       "      <td>0</td>\n",
       "      <td>0</td>\n",
       "      <td>1</td>\n",
       "    </tr>\n",
       "    <tr>\n",
       "      <th>0000-0002-2206-2961</th>\n",
       "      <td>2004.0</td>\n",
       "      <td>149</td>\n",
       "      <td>2016.0</td>\n",
       "      <td>1</td>\n",
       "      <td>34656</td>\n",
       "      <td>0</td>\n",
       "      <td>0.0</td>\n",
       "      <td>0.0</td>\n",
       "      <td>0</td>\n",
       "      <td>0</td>\n",
       "      <td>0</td>\n",
       "      <td>0</td>\n",
       "      <td>0</td>\n",
       "      <td>0</td>\n",
       "      <td>1</td>\n",
       "    </tr>\n",
       "    <tr>\n",
       "      <th>0000-0002-0240-5584</th>\n",
       "      <td>1992.0</td>\n",
       "      <td>101</td>\n",
       "      <td>1996.0</td>\n",
       "      <td>0</td>\n",
       "      <td>60095</td>\n",
       "      <td>0</td>\n",
       "      <td>0.0</td>\n",
       "      <td>0.0</td>\n",
       "      <td>0</td>\n",
       "      <td>0</td>\n",
       "      <td>0</td>\n",
       "      <td>0</td>\n",
       "      <td>0</td>\n",
       "      <td>0</td>\n",
       "      <td>1</td>\n",
       "    </tr>\n",
       "    <tr>\n",
       "      <th>0000-0002-0669-3165</th>\n",
       "      <td>2008.0</td>\n",
       "      <td>26</td>\n",
       "      <td>2012.0</td>\n",
       "      <td>0</td>\n",
       "      <td>54529</td>\n",
       "      <td>0</td>\n",
       "      <td>0.0</td>\n",
       "      <td>0.0</td>\n",
       "      <td>1</td>\n",
       "      <td>0</td>\n",
       "      <td>0</td>\n",
       "      <td>0</td>\n",
       "      <td>0</td>\n",
       "      <td>0</td>\n",
       "      <td>0</td>\n",
       "    </tr>\n",
       "    <tr>\n",
       "      <th>0000-0002-4865-3903</th>\n",
       "      <td>2011.0</td>\n",
       "      <td>56</td>\n",
       "      <td>2016.0</td>\n",
       "      <td>1</td>\n",
       "      <td>66518</td>\n",
       "      <td>0</td>\n",
       "      <td>0.0</td>\n",
       "      <td>0.0</td>\n",
       "      <td>0</td>\n",
       "      <td>0</td>\n",
       "      <td>0</td>\n",
       "      <td>0</td>\n",
       "      <td>0</td>\n",
       "      <td>0</td>\n",
       "      <td>1</td>\n",
       "    </tr>\n",
       "  </tbody>\n",
       "</table>\n",
       "</div>"
      ],
      "text/plain": [
       "                     earliest_year  earliest_country  end_year  \\\n",
       "orcid_id                                                         \n",
       "0000-0001-9837-6433         1995.0               132    1998.0   \n",
       "0000-0002-2206-2961         2004.0               149    2016.0   \n",
       "0000-0002-0240-5584         1992.0               101    1996.0   \n",
       "0000-0002-0669-3165         2008.0                26    2012.0   \n",
       "0000-0002-4865-3903         2011.0                56    2016.0   \n",
       "\n",
       "                     affiliation_type  affiliation_role  has_phd  phd_year  \\\n",
       "orcid_id                                                                     \n",
       "0000-0001-9837-6433                 1             69180        0       0.0   \n",
       "0000-0002-2206-2961                 1             34656        0       0.0   \n",
       "0000-0002-0240-5584                 0             60095        0       0.0   \n",
       "0000-0002-0669-3165                 0             54529        0       0.0   \n",
       "0000-0002-4865-3903                 1             66518        0       0.0   \n",
       "\n",
       "                     phd_age  life_science  physical_science  social_science  \\\n",
       "orcid_id                                                                       \n",
       "0000-0001-9837-6433      0.0             0                 0               0   \n",
       "0000-0002-2206-2961      0.0             0                 0               0   \n",
       "0000-0002-0240-5584      0.0             0                 0               0   \n",
       "0000-0002-0669-3165      0.0             1                 0               0   \n",
       "0000-0002-4865-3903      0.0             0                 0               0   \n",
       "\n",
       "                     engineering  humanities  education  other  \n",
       "orcid_id                                                        \n",
       "0000-0001-9837-6433            0           0          0      1  \n",
       "0000-0002-2206-2961            0           0          0      1  \n",
       "0000-0002-0240-5584            0           0          0      1  \n",
       "0000-0002-0669-3165            0           0          0      0  \n",
       "0000-0002-4865-3903            0           0          0      1  "
      ]
     },
     "execution_count": 112,
     "metadata": {},
     "output_type": "execute_result"
    }
   ],
   "source": [
    "# end_year, phd_age, other, earliest_country, affiliation_role are relevant features in primary model\n",
    "# correctly classified 65% of scientists and 81% of US Migrants in test group\n",
    "x_train.head()"
   ]
  }
 ],
 "metadata": {
  "kernelspec": {
   "display_name": "Python 3",
   "language": "python",
   "name": "python3"
  },
  "language_info": {
   "codemirror_mode": {
    "name": "ipython",
    "version": 3
   },
   "file_extension": ".py",
   "mimetype": "text/x-python",
   "name": "python",
   "nbconvert_exporter": "python",
   "pygments_lexer": "ipython3",
   "version": "3.6.1"
  }
 },
 "nbformat": 4,
 "nbformat_minor": 2
}
